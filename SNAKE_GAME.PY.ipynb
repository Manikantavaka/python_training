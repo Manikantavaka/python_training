{
 "cells": [
  {
   "cell_type": "code",
   "execution_count": 1,
   "id": "2723ec26-5341-4c30-a3b4-eaf929bfb58c",
   "metadata": {},
   "outputs": [
    {
     "name": "stdout",
     "output_type": "stream",
     "text": [
      ". . . . . . . . . . \n",
      ". . . . . . . . . . \n",
      ". . . . . . . . . . \n",
      ". . . . . . . . . . \n",
      ". . . . . . . . . . \n",
      ". . . . . S . . . . \n",
      ". . . . . . . F . . \n",
      ". . . . . . . . . . \n",
      ". . . . . . . . . . \n",
      ". . . . . . . . . . \n",
      "\n",
      "SCORE: 0\n"
     ]
    },
    {
     "name": "stdin",
     "output_type": "stream",
     "text": [
      "ENTER DIRECTION (UP/DOWN/LEFT/RIGHT): RIGHT\n"
     ]
    },
    {
     "name": "stdout",
     "output_type": "stream",
     "text": [
      ". . . . . . . . . . \n",
      ". . . . . . . . . . \n",
      ". . . . . . . . . . \n",
      ". . . . . . . . . . \n",
      ". . . . . . . . . . \n",
      ". . . . . . S . . . \n",
      ". . . . . . . F . . \n",
      ". . . . . . . . . . \n",
      ". . . . . . . . . . \n",
      ". . . . . . . . . . \n",
      "\n",
      "SCORE: 0\n"
     ]
    },
    {
     "name": "stdin",
     "output_type": "stream",
     "text": [
      "ENTER DIRECTION (UP/DOWN/LEFT/RIGHT): RIGHT\n"
     ]
    },
    {
     "name": "stdout",
     "output_type": "stream",
     "text": [
      ". . . . . . . . . . \n",
      ". . . . . . . . . . \n",
      ". . . . . . . . . . \n",
      ". . . . . . . . . . \n",
      ". . . . . . . . . . \n",
      ". . . . . . . S . . \n",
      ". . . . . . . F . . \n",
      ". . . . . . . . . . \n",
      ". . . . . . . . . . \n",
      ". . . . . . . . . . \n",
      "\n",
      "SCORE: 0\n"
     ]
    },
    {
     "name": "stdin",
     "output_type": "stream",
     "text": [
      "ENTER DIRECTION (UP/DOWN/LEFT/RIGHT): DOWN\n"
     ]
    },
    {
     "name": "stdout",
     "output_type": "stream",
     "text": [
      ". . . . . . . . . . \n",
      ". . . . . . . . . . \n",
      ". . . . . . . . . . \n",
      ". . . . . . . . . . \n",
      ". . . . . . . . . . \n",
      ". . . . . . . S . . \n",
      ". . . . . . . S . . \n",
      ". . . . . . . . . . \n",
      ". . . . . . . . . . \n",
      ". . . . . . . . F . \n",
      "\n",
      "SCORE: 1\n"
     ]
    },
    {
     "name": "stdin",
     "output_type": "stream",
     "text": [
      "ENTER DIRECTION (UP/DOWN/LEFT/RIGHT): DOWN\n"
     ]
    },
    {
     "name": "stdout",
     "output_type": "stream",
     "text": [
      ". . . . . . . . . . \n",
      ". . . . . . . . . . \n",
      ". . . . . . . . . . \n",
      ". . . . . . . . . . \n",
      ". . . . . . . . . . \n",
      ". . . . . . . . . . \n",
      ". . . . . . . S . . \n",
      ". . . . . . . S . . \n",
      ". . . . . . . . . . \n",
      ". . . . . . . . F . \n",
      "\n",
      "SCORE: 1\n"
     ]
    },
    {
     "name": "stdin",
     "output_type": "stream",
     "text": [
      "ENTER DIRECTION (UP/DOWN/LEFT/RIGHT): DOWN\n"
     ]
    },
    {
     "name": "stdout",
     "output_type": "stream",
     "text": [
      ". . . . . . . . . . \n",
      ". . . . . . . . . . \n",
      ". . . . . . . . . . \n",
      ". . . . . . . . . . \n",
      ". . . . . . . . . . \n",
      ". . . . . . . . . . \n",
      ". . . . . . . . . . \n",
      ". . . . . . . S . . \n",
      ". . . . . . . S . . \n",
      ". . . . . . . . F . \n",
      "\n",
      "SCORE: 1\n"
     ]
    },
    {
     "name": "stdin",
     "output_type": "stream",
     "text": [
      "ENTER DIRECTION (UP/DOWN/LEFT/RIGHT): DOWN\n"
     ]
    },
    {
     "name": "stdout",
     "output_type": "stream",
     "text": [
      ". . . . . . . . . . \n",
      ". . . . . . . . . . \n",
      ". . . . . . . . . . \n",
      ". . . . . . . . . . \n",
      ". . . . . . . . . . \n",
      ". . . . . . . . . . \n",
      ". . . . . . . . . . \n",
      ". . . . . . . . . . \n",
      ". . . . . . . S . . \n",
      ". . . . . . . S F . \n",
      "\n",
      "SCORE: 1\n"
     ]
    },
    {
     "name": "stdin",
     "output_type": "stream",
     "text": [
      "ENTER DIRECTION (UP/DOWN/LEFT/RIGHT): RIGHT\n"
     ]
    },
    {
     "name": "stdout",
     "output_type": "stream",
     "text": [
      ". . . . . . . . . . \n",
      ". . . . . . . . . . \n",
      ". . . . . . . . . . \n",
      ". . . . . . . . . . \n",
      ". . . . . . . . . . \n",
      ". . . . . . . . . . \n",
      ". . . . . . . . . . \n",
      ". . . . . . . . . . \n",
      ". . . . . . . S . F \n",
      ". . . . . . . S S . \n",
      "\n",
      "SCORE: 2\n"
     ]
    },
    {
     "name": "stdin",
     "output_type": "stream",
     "text": [
      "ENTER DIRECTION (UP/DOWN/LEFT/RIGHT): RIGHT\n"
     ]
    },
    {
     "name": "stdout",
     "output_type": "stream",
     "text": [
      ". . . . . . . . . . \n",
      ". . . . . . . . . . \n",
      ". . . . . . . . . . \n",
      ". . . . . . . . . . \n",
      ". . . . . . . . . . \n",
      ". . . . . . . . . . \n",
      ". . . . . . . . . . \n",
      ". . . . . . . . . . \n",
      ". . . . . . . . . F \n",
      ". . . . . . . S S S \n",
      "\n",
      "SCORE: 2\n"
     ]
    },
    {
     "name": "stdin",
     "output_type": "stream",
     "text": [
      "ENTER DIRECTION (UP/DOWN/LEFT/RIGHT): UP\n"
     ]
    },
    {
     "name": "stdout",
     "output_type": "stream",
     "text": [
      ". . . . . . . . F . \n",
      ". . . . . . . . . . \n",
      ". . . . . . . . . . \n",
      ". . . . . . . . . . \n",
      ". . . . . . . . . . \n",
      ". . . . . . . . . . \n",
      ". . . . . . . . . . \n",
      ". . . . . . . . . . \n",
      ". . . . . . . . . S \n",
      ". . . . . . . S S S \n",
      "\n",
      "SCORE: 3\n"
     ]
    },
    {
     "name": "stdin",
     "output_type": "stream",
     "text": [
      "ENTER DIRECTION (UP/DOWN/LEFT/RIGHT): UP\n"
     ]
    },
    {
     "name": "stdout",
     "output_type": "stream",
     "text": [
      ". . . . . . . . F . \n",
      ". . . . . . . . . . \n",
      ". . . . . . . . . . \n",
      ". . . . . . . . . . \n",
      ". . . . . . . . . . \n",
      ". . . . . . . . . . \n",
      ". . . . . . . . . . \n",
      ". . . . . . . . . S \n",
      ". . . . . . . . . S \n",
      ". . . . . . . . S S \n",
      "\n",
      "SCORE: 3\n"
     ]
    },
    {
     "name": "stdin",
     "output_type": "stream",
     "text": [
      "ENTER DIRECTION (UP/DOWN/LEFT/RIGHT): UP\n"
     ]
    },
    {
     "name": "stdout",
     "output_type": "stream",
     "text": [
      ". . . . . . . . F . \n",
      ". . . . . . . . . . \n",
      ". . . . . . . . . . \n",
      ". . . . . . . . . . \n",
      ". . . . . . . . . . \n",
      ". . . . . . . . . . \n",
      ". . . . . . . . . S \n",
      ". . . . . . . . . S \n",
      ". . . . . . . . . S \n",
      ". . . . . . . . . S \n",
      "\n",
      "SCORE: 3\n"
     ]
    },
    {
     "name": "stdin",
     "output_type": "stream",
     "text": [
      "ENTER DIRECTION (UP/DOWN/LEFT/RIGHT): UP\n"
     ]
    },
    {
     "name": "stdout",
     "output_type": "stream",
     "text": [
      ". . . . . . . . F . \n",
      ". . . . . . . . . . \n",
      ". . . . . . . . . . \n",
      ". . . . . . . . . . \n",
      ". . . . . . . . . . \n",
      ". . . . . . . . . S \n",
      ". . . . . . . . . S \n",
      ". . . . . . . . . S \n",
      ". . . . . . . . . S \n",
      ". . . . . . . . . . \n",
      "\n",
      "SCORE: 3\n"
     ]
    },
    {
     "name": "stdin",
     "output_type": "stream",
     "text": [
      "ENTER DIRECTION (UP/DOWN/LEFT/RIGHT): UP\n"
     ]
    },
    {
     "name": "stdout",
     "output_type": "stream",
     "text": [
      ". . . . . . . . F . \n",
      ". . . . . . . . . . \n",
      ". . . . . . . . . . \n",
      ". . . . . . . . . . \n",
      ". . . . . . . . . S \n",
      ". . . . . . . . . S \n",
      ". . . . . . . . . S \n",
      ". . . . . . . . . S \n",
      ". . . . . . . . . . \n",
      ". . . . . . . . . . \n",
      "\n",
      "SCORE: 3\n"
     ]
    },
    {
     "name": "stdin",
     "output_type": "stream",
     "text": [
      "ENTER DIRECTION (UP/DOWN/LEFT/RIGHT): UP\n"
     ]
    },
    {
     "name": "stdout",
     "output_type": "stream",
     "text": [
      ". . . . . . . . F . \n",
      ". . . . . . . . . . \n",
      ". . . . . . . . . . \n",
      ". . . . . . . . . S \n",
      ". . . . . . . . . S \n",
      ". . . . . . . . . S \n",
      ". . . . . . . . . S \n",
      ". . . . . . . . . . \n",
      ". . . . . . . . . . \n",
      ". . . . . . . . . . \n",
      "\n",
      "SCORE: 3\n"
     ]
    },
    {
     "name": "stdin",
     "output_type": "stream",
     "text": [
      "ENTER DIRECTION (UP/DOWN/LEFT/RIGHT): UP\n"
     ]
    },
    {
     "name": "stdout",
     "output_type": "stream",
     "text": [
      ". . . . . . . . F . \n",
      ". . . . . . . . . . \n",
      ". . . . . . . . . S \n",
      ". . . . . . . . . S \n",
      ". . . . . . . . . S \n",
      ". . . . . . . . . S \n",
      ". . . . . . . . . . \n",
      ". . . . . . . . . . \n",
      ". . . . . . . . . . \n",
      ". . . . . . . . . . \n",
      "\n",
      "SCORE: 3\n"
     ]
    },
    {
     "name": "stdin",
     "output_type": "stream",
     "text": [
      "ENTER DIRECTION (UP/DOWN/LEFT/RIGHT): UP\n"
     ]
    },
    {
     "name": "stdout",
     "output_type": "stream",
     "text": [
      ". . . . . . . . F . \n",
      ". . . . . . . . . S \n",
      ". . . . . . . . . S \n",
      ". . . . . . . . . S \n",
      ". . . . . . . . . S \n",
      ". . . . . . . . . . \n",
      ". . . . . . . . . . \n",
      ". . . . . . . . . . \n",
      ". . . . . . . . . . \n",
      ". . . . . . . . . . \n",
      "\n",
      "SCORE: 3\n"
     ]
    },
    {
     "name": "stdin",
     "output_type": "stream",
     "text": [
      "ENTER DIRECTION (UP/DOWN/LEFT/RIGHT): UP\n"
     ]
    },
    {
     "name": "stdout",
     "output_type": "stream",
     "text": [
      ". . . . . . . . F S \n",
      ". . . . . . . . . S \n",
      ". . . . . . . . . S \n",
      ". . . . . . . . . S \n",
      ". . . . . . . . . . \n",
      ". . . . . . . . . . \n",
      ". . . . . . . . . . \n",
      ". . . . . . . . . . \n",
      ". . . . . . . . . . \n",
      ". . . . . . . . . . \n",
      "\n",
      "SCORE: 3\n"
     ]
    },
    {
     "name": "stdin",
     "output_type": "stream",
     "text": [
      "ENTER DIRECTION (UP/DOWN/LEFT/RIGHT): LEFT\n"
     ]
    },
    {
     "name": "stdout",
     "output_type": "stream",
     "text": [
      ". . . . . . . . S S \n",
      ". . . . . . . . . S \n",
      ". . . . . . . . . S \n",
      ". . . . . . . . . S \n",
      ". . . . . . . . . . \n",
      ". . . . . . . . F . \n",
      ". . . . . . . . . . \n",
      ". . . . . . . . . . \n",
      ". . . . . . . . . . \n",
      ". . . . . . . . . . \n",
      "\n",
      "SCORE: 4\n"
     ]
    },
    {
     "name": "stdin",
     "output_type": "stream",
     "text": [
      "ENTER DIRECTION (UP/DOWN/LEFT/RIGHT): DOWN\n"
     ]
    },
    {
     "name": "stdout",
     "output_type": "stream",
     "text": [
      ". . . . . . . . S S \n",
      ". . . . . . . . S S \n",
      ". . . . . . . . . S \n",
      ". . . . . . . . . . \n",
      ". . . . . . . . . . \n",
      ". . . . . . . . F . \n",
      ". . . . . . . . . . \n",
      ". . . . . . . . . . \n",
      ". . . . . . . . . . \n",
      ". . . . . . . . . . \n",
      "\n",
      "SCORE: 4\n"
     ]
    },
    {
     "name": "stdin",
     "output_type": "stream",
     "text": [
      "ENTER DIRECTION (UP/DOWN/LEFT/RIGHT): DOWN\n"
     ]
    },
    {
     "name": "stdout",
     "output_type": "stream",
     "text": [
      ". . . . . . . . S S \n",
      ". . . . . . . . S S \n",
      ". . . . . . . . S . \n",
      ". . . . . . . . . . \n",
      ". . . . . . . . . . \n",
      ". . . . . . . . F . \n",
      ". . . . . . . . . . \n",
      ". . . . . . . . . . \n",
      ". . . . . . . . . . \n",
      ". . . . . . . . . . \n",
      "\n",
      "SCORE: 4\n"
     ]
    },
    {
     "name": "stdin",
     "output_type": "stream",
     "text": [
      "ENTER DIRECTION (UP/DOWN/LEFT/RIGHT): DOWN\n"
     ]
    },
    {
     "name": "stdout",
     "output_type": "stream",
     "text": [
      ". . . . . . . . S S \n",
      ". . . . . . . . S . \n",
      ". . . . . . . . S . \n",
      ". . . . . . . . S . \n",
      ". . . . . . . . . . \n",
      ". . . . . . . . F . \n",
      ". . . . . . . . . . \n",
      ". . . . . . . . . . \n",
      ". . . . . . . . . . \n",
      ". . . . . . . . . . \n",
      "\n",
      "SCORE: 4\n"
     ]
    },
    {
     "name": "stdin",
     "output_type": "stream",
     "text": [
      "ENTER DIRECTION (UP/DOWN/LEFT/RIGHT): DOWN\n"
     ]
    },
    {
     "name": "stdout",
     "output_type": "stream",
     "text": [
      ". . . . . . . . S . \n",
      ". . . . . . . . S . \n",
      ". . . . . . . . S . \n",
      ". . . . . . . . S . \n",
      ". . . . . . . . S . \n",
      ". . . . . . . . F . \n",
      ". . . . . . . . . . \n",
      ". . . . . . . . . . \n",
      ". . . . . . . . . . \n",
      ". . . . . . . . . . \n",
      "\n",
      "SCORE: 4\n"
     ]
    },
    {
     "name": "stdin",
     "output_type": "stream",
     "text": [
      "ENTER DIRECTION (UP/DOWN/LEFT/RIGHT): DOWN\n"
     ]
    },
    {
     "name": "stdout",
     "output_type": "stream",
     "text": [
      ". F . . . . . . S . \n",
      ". . . . . . . . S . \n",
      ". . . . . . . . S . \n",
      ". . . . . . . . S . \n",
      ". . . . . . . . S . \n",
      ". . . . . . . . S . \n",
      ". . . . . . . . . . \n",
      ". . . . . . . . . . \n",
      ". . . . . . . . . . \n",
      ". . . . . . . . . . \n",
      "\n",
      "SCORE: 5\n"
     ]
    },
    {
     "name": "stdin",
     "output_type": "stream",
     "text": [
      "ENTER DIRECTION (UP/DOWN/LEFT/RIGHT): DOWN\n"
     ]
    },
    {
     "name": "stdout",
     "output_type": "stream",
     "text": [
      ". F . . . . . . . . \n",
      ". . . . . . . . S . \n",
      ". . . . . . . . S . \n",
      ". . . . . . . . S . \n",
      ". . . . . . . . S . \n",
      ". . . . . . . . S . \n",
      ". . . . . . . . S . \n",
      ". . . . . . . . . . \n",
      ". . . . . . . . . . \n",
      ". . . . . . . . . . \n",
      "\n",
      "SCORE: 5\n"
     ]
    },
    {
     "name": "stdin",
     "output_type": "stream",
     "text": [
      "ENTER DIRECTION (UP/DOWN/LEFT/RIGHT): LEFT\n"
     ]
    },
    {
     "name": "stdout",
     "output_type": "stream",
     "text": [
      ". F . . . . . . . . \n",
      ". . . . . . . . . . \n",
      ". . . . . . . . S . \n",
      ". . . . . . . . S . \n",
      ". . . . . . . . S . \n",
      ". . . . . . . . S . \n",
      ". . . . . . . S S . \n",
      ". . . . . . . . . . \n",
      ". . . . . . . . . . \n",
      ". . . . . . . . . . \n",
      "\n",
      "SCORE: 5\n"
     ]
    },
    {
     "name": "stdin",
     "output_type": "stream",
     "text": [
      "ENTER DIRECTION (UP/DOWN/LEFT/RIGHT): LEFT\n"
     ]
    },
    {
     "name": "stdout",
     "output_type": "stream",
     "text": [
      ". F . . . . . . . . \n",
      ". . . . . . . . . . \n",
      ". . . . . . . . . . \n",
      ". . . . . . . . S . \n",
      ". . . . . . . . S . \n",
      ". . . . . . . . S . \n",
      ". . . . . . S S S . \n",
      ". . . . . . . . . . \n",
      ". . . . . . . . . . \n",
      ". . . . . . . . . . \n",
      "\n",
      "SCORE: 5\n"
     ]
    },
    {
     "name": "stdin",
     "output_type": "stream",
     "text": [
      "ENTER DIRECTION (UP/DOWN/LEFT/RIGHT): LEFT\n"
     ]
    },
    {
     "name": "stdout",
     "output_type": "stream",
     "text": [
      ". F . . . . . . . . \n",
      ". . . . . . . . . . \n",
      ". . . . . . . . . . \n",
      ". . . . . . . . . . \n",
      ". . . . . . . . S . \n",
      ". . . . . . . . S . \n",
      ". . . . . S S S S . \n",
      ". . . . . . . . . . \n",
      ". . . . . . . . . . \n",
      ". . . . . . . . . . \n",
      "\n",
      "SCORE: 5\n"
     ]
    },
    {
     "name": "stdin",
     "output_type": "stream",
     "text": [
      "ENTER DIRECTION (UP/DOWN/LEFT/RIGHT): LEFT\n"
     ]
    },
    {
     "name": "stdout",
     "output_type": "stream",
     "text": [
      ". F . . . . . . . . \n",
      ". . . . . . . . . . \n",
      ". . . . . . . . . . \n",
      ". . . . . . . . . . \n",
      ". . . . . . . . . . \n",
      ". . . . . . . . S . \n",
      ". . . . S S S S S . \n",
      ". . . . . . . . . . \n",
      ". . . . . . . . . . \n",
      ". . . . . . . . . . \n",
      "\n",
      "SCORE: 5\n"
     ]
    },
    {
     "name": "stdin",
     "output_type": "stream",
     "text": [
      "ENTER DIRECTION (UP/DOWN/LEFT/RIGHT): LEFT\n"
     ]
    },
    {
     "name": "stdout",
     "output_type": "stream",
     "text": [
      ". F . . . . . . . . \n",
      ". . . . . . . . . . \n",
      ". . . . . . . . . . \n",
      ". . . . . . . . . . \n",
      ". . . . . . . . . . \n",
      ". . . . . . . . . . \n",
      ". . . S S S S S S . \n",
      ". . . . . . . . . . \n",
      ". . . . . . . . . . \n",
      ". . . . . . . . . . \n",
      "\n",
      "SCORE: 5\n"
     ]
    },
    {
     "name": "stdin",
     "output_type": "stream",
     "text": [
      "ENTER DIRECTION (UP/DOWN/LEFT/RIGHT): LEFT\n"
     ]
    },
    {
     "name": "stdout",
     "output_type": "stream",
     "text": [
      ". F . . . . . . . . \n",
      ". . . . . . . . . . \n",
      ". . . . . . . . . . \n",
      ". . . . . . . . . . \n",
      ". . . . . . . . . . \n",
      ". . . . . . . . . . \n",
      ". . S S S S S S . . \n",
      ". . . . . . . . . . \n",
      ". . . . . . . . . . \n",
      ". . . . . . . . . . \n",
      "\n",
      "SCORE: 5\n"
     ]
    },
    {
     "name": "stdin",
     "output_type": "stream",
     "text": [
      "ENTER DIRECTION (UP/DOWN/LEFT/RIGHT): LEFT\n"
     ]
    },
    {
     "name": "stdout",
     "output_type": "stream",
     "text": [
      ". F . . . . . . . . \n",
      ". . . . . . . . . . \n",
      ". . . . . . . . . . \n",
      ". . . . . . . . . . \n",
      ". . . . . . . . . . \n",
      ". . . . . . . . . . \n",
      ". S S S S S S . . . \n",
      ". . . . . . . . . . \n",
      ". . . . . . . . . . \n",
      ". . . . . . . . . . \n",
      "\n",
      "SCORE: 5\n"
     ]
    },
    {
     "name": "stdin",
     "output_type": "stream",
     "text": [
      "ENTER DIRECTION (UP/DOWN/LEFT/RIGHT): UP\n"
     ]
    },
    {
     "name": "stdout",
     "output_type": "stream",
     "text": [
      ". F . . . . . . . . \n",
      ". . . . . . . . . . \n",
      ". . . . . . . . . . \n",
      ". . . . . . . . . . \n",
      ". . . . . . . . . . \n",
      ". S . . . . . . . . \n",
      ". S S S S S . . . . \n",
      ". . . . . . . . . . \n",
      ". . . . . . . . . . \n",
      ". . . . . . . . . . \n",
      "\n",
      "SCORE: 5\n"
     ]
    },
    {
     "name": "stdin",
     "output_type": "stream",
     "text": [
      "ENTER DIRECTION (UP/DOWN/LEFT/RIGHT): UP\n"
     ]
    },
    {
     "name": "stdout",
     "output_type": "stream",
     "text": [
      ". F . . . . . . . . \n",
      ". . . . . . . . . . \n",
      ". . . . . . . . . . \n",
      ". . . . . . . . . . \n",
      ". S . . . . . . . . \n",
      ". S . . . . . . . . \n",
      ". S S S S . . . . . \n",
      ". . . . . . . . . . \n",
      ". . . . . . . . . . \n",
      ". . . . . . . . . . \n",
      "\n",
      "SCORE: 5\n"
     ]
    },
    {
     "name": "stdin",
     "output_type": "stream",
     "text": [
      "ENTER DIRECTION (UP/DOWN/LEFT/RIGHT): UP\n"
     ]
    },
    {
     "name": "stdout",
     "output_type": "stream",
     "text": [
      ". F . . . . . . . . \n",
      ". . . . . . . . . . \n",
      ". . . . . . . . . . \n",
      ". S . . . . . . . . \n",
      ". S . . . . . . . . \n",
      ". S . . . . . . . . \n",
      ". S S S . . . . . . \n",
      ". . . . . . . . . . \n",
      ". . . . . . . . . . \n",
      ". . . . . . . . . . \n",
      "\n",
      "SCORE: 5\n"
     ]
    },
    {
     "name": "stdin",
     "output_type": "stream",
     "text": [
      "ENTER DIRECTION (UP/DOWN/LEFT/RIGHT): UP\n"
     ]
    },
    {
     "name": "stdout",
     "output_type": "stream",
     "text": [
      ". F . . . . . . . . \n",
      ". . . . . . . . . . \n",
      ". S . . . . . . . . \n",
      ". S . . . . . . . . \n",
      ". S . . . . . . . . \n",
      ". S . . . . . . . . \n",
      ". S S . . . . . . . \n",
      ". . . . . . . . . . \n",
      ". . . . . . . . . . \n",
      ". . . . . . . . . . \n",
      "\n",
      "SCORE: 5\n"
     ]
    },
    {
     "name": "stdin",
     "output_type": "stream",
     "text": [
      "ENTER DIRECTION (UP/DOWN/LEFT/RIGHT): UP\n"
     ]
    },
    {
     "name": "stdout",
     "output_type": "stream",
     "text": [
      ". F . . . . . . . . \n",
      ". S . . . . . . . . \n",
      ". S . . . . . . . . \n",
      ". S . . . . . . . . \n",
      ". S . . . . . . . . \n",
      ". S . . . . . . . . \n",
      ". S . . . . . . . . \n",
      ". . . . . . . . . . \n",
      ". . . . . . . . . . \n",
      ". . . . . . . . . . \n",
      "\n",
      "SCORE: 5\n"
     ]
    },
    {
     "name": "stdin",
     "output_type": "stream",
     "text": [
      "ENTER DIRECTION (UP/DOWN/LEFT/RIGHT): UP\n"
     ]
    },
    {
     "name": "stdout",
     "output_type": "stream",
     "text": [
      ". S . . . . . . . . \n",
      ". S . . . . . . . . \n",
      ". S . . . . . . . . \n",
      ". S . . . . . . . . \n",
      ". S . . . . . . . . \n",
      ". S . . . . . . . . \n",
      ". S . . . . . . . . \n",
      ". . . . . . F . . . \n",
      ". . . . . . . . . . \n",
      ". . . . . . . . . . \n",
      "\n",
      "SCORE: 6\n"
     ]
    },
    {
     "name": "stdin",
     "output_type": "stream",
     "text": [
      "ENTER DIRECTION (UP/DOWN/LEFT/RIGHT): UP\n"
     ]
    },
    {
     "name": "stdout",
     "output_type": "stream",
     "text": [
      "YOU HIT THE WALL,GAME OVER!!!\n",
      "FINAL SCORE: 6\n"
     ]
    }
   ],
   "source": [
    "import random\n",
    "\n",
    "width=10\n",
    "height=10\n",
    " \n",
    "def print_board(snake,food):\n",
    "    for y in range(height):\n",
    "        for x in range(width):\n",
    "            if [x,y]==food:\n",
    "                print('F',end=' ')\n",
    "            elif [x,y] in snake:\n",
    "                print('S', end=' ')\n",
    "            else:\n",
    "                print('.',end=' ')\n",
    "        print()\n",
    "    print()\n",
    "\n",
    "#THIS PART IS ABOUT SNAKE MOVEMENTS TO MOVE IN WHICH DIRECTION\n",
    "\n",
    "def move_snake(snake,direction):\n",
    "    head=snake[-1]\n",
    "    if direction=='up':\n",
    "        new_head=[head[0], head[1]-1]\n",
    "    elif direction=='down':\n",
    "        new_head = [head[0], head[1]+1]\n",
    "    elif direction == 'left':\n",
    "        new_head = [head[0]-1, head[1]]\n",
    "    elif direction == 'right':\n",
    "        new_head = [head[0]+1, head[1]]\n",
    "    else:\n",
    "        print(\"INVALID DIRECTION,USE LEFT/RIGHT/UP/DOWN ONLY......\")\n",
    "        return snake,False\n",
    "\n",
    "# WALL COLLIDE CONDITIONS:\n",
    "    if new_head[0]<0 or new_head[0]>=width or new_head[1]<0 or new_head[1]>=height:\n",
    "        return snake,'wall'\n",
    "\n",
    "#self collide conditions\n",
    "\n",
    "    if new_head in snake:\n",
    "        return snake,'self'\n",
    "    snake.append(new_head)\n",
    "    return snake,new_head\n",
    "\n",
    "def place_food(snake):\n",
    "    while True:\n",
    "        x=random.randint(0,width-1)\n",
    "        y=random.randint(0,height-1)\n",
    "        if [x,y] not in snake:\n",
    "            return [x,y]\n",
    "\n",
    "def snake_game():\n",
    "    snake=[[5,5]]\n",
    "    food=place_food(snake)\n",
    "    score=0\n",
    "    while True:\n",
    "        print_board(snake,food)\n",
    "        print(\"SCORE:\",score)\n",
    "        direction=input(\"ENTER DIRECTION (UP/DOWN/LEFT/RIGHT):\").lower()\n",
    "        snake,result=move_snake(snake,direction)\n",
    "        if result=='wall':\n",
    "            print(\"YOU HIT THE WALL,GAME OVER!!!\")\n",
    "            break\n",
    "        elif result==\"self\":\n",
    "            print(\"YOU HIT YOURSELF....GAME OVER!!!!\")\n",
    "            break\n",
    "        elif result==food:\n",
    "            score+=1\n",
    "            food=place_food(snake)\n",
    "        else:\n",
    "            snake.pop(0)\n",
    "    print(\"FINAL SCORE:\",score)\n",
    "snake_game()"
   ]
  },
  {
   "cell_type": "code",
   "execution_count": null,
   "id": "72d5d3c3-622d-4e4c-b5ed-cd5bd7319e7e",
   "metadata": {},
   "outputs": [],
   "source": []
  }
 ],
 "metadata": {
  "kernelspec": {
   "display_name": "Python 3 (ipykernel)",
   "language": "python",
   "name": "python3"
  },
  "language_info": {
   "codemirror_mode": {
    "name": "ipython",
    "version": 3
   },
   "file_extension": ".py",
   "mimetype": "text/x-python",
   "name": "python",
   "nbconvert_exporter": "python",
   "pygments_lexer": "ipython3",
   "version": "3.12.7"
  }
 },
 "nbformat": 4,
 "nbformat_minor": 5
}
