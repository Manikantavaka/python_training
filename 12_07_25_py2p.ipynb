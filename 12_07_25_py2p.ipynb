{
 "cells": [
  {
   "cell_type": "code",
   "execution_count": 13,
   "id": "53aa7a1a-bb4f-4e12-a270-63a6d6e422ad",
   "metadata": {},
   "outputs": [
    {
     "name": "stdin",
     "output_type": "stream",
     "text": [
      "enter the value a: 54\n",
      "enter the value b: 6\n"
     ]
    },
    {
     "name": "stdout",
     "output_type": "stream",
     "text": [
      "division : 9.0\n",
      "mod division: 0\n"
     ]
    }
   ],
   "source": [
    "def cal(a,b):\n",
    "    def div():\n",
    "        return a/b\n",
    "    def modiv():\n",
    "        return a%b\n",
    "    if b==0:\n",
    "        print(\"'b' cannot be pottentially zero\")\n",
    "    else:\n",
    "        print(\"division :\",div())\n",
    "        print(\"mod division:\",modiv())\n",
    "a=int(input(\"enter the value a:\"))\n",
    "b=int(input(\"enter the value b:\"))\n",
    "cal(a,b)"
   ]
  },
  {
   "cell_type": "code",
   "execution_count": 23,
   "id": "d6d33c1f-2d4e-441a-9138-4326f45bc56f",
   "metadata": {},
   "outputs": [
    {
     "name": "stdin",
     "output_type": "stream",
     "text": [
      "enter the 'a': 7\n"
     ]
    },
    {
     "name": "stdout",
     "output_type": "stream",
     "text": [
      "square: 49\n",
      "cube: 343\n"
     ]
    }
   ],
   "source": [
    "def cal(a):\n",
    "    def sq():\n",
    "        return a*a\n",
    "    def cub():\n",
    "        return a*a*a\n",
    "    print(\"square:\",sq())\n",
    "    print(\"cube:\",cub())\n",
    "a=int(input(\"enter the 'a':\"))\n",
    "cal(a)"
   ]
  },
  {
   "cell_type": "code",
   "execution_count": 27,
   "id": "c549b946-b2b9-4bd5-8b08-2803d88e7d45",
   "metadata": {},
   "outputs": [
    {
     "name": "stdin",
     "output_type": "stream",
     "text": [
      "enter the a: 9\n"
     ]
    },
    {
     "name": "stdout",
     "output_type": "stream",
     "text": [
      "odd number\n"
     ]
    }
   ],
   "source": [
    "def cal(a):\n",
    "    def eve():\n",
    "        return a%2\n",
    "    if eve()==0:\n",
    "        print(\"even number\")\n",
    "    else:\n",
    "        print(\"odd number\")\n",
    "a=int(input(\"enter the a:\"))\n",
    "cal(a)"
   ]
  },
  {
   "cell_type": "code",
   "execution_count": 29,
   "id": "0bc2ccdf-fa1c-4545-8518-c1b3eada2808",
   "metadata": {},
   "outputs": [
    {
     "name": "stdin",
     "output_type": "stream",
     "text": [
      "enter the 'a': 7\n",
      "enter the 'b': 3\n"
     ]
    },
    {
     "name": "stdout",
     "output_type": "stream",
     "text": [
      "area of rectangle: 21\n",
      "perameter of rectangle: 20\n"
     ]
    }
   ],
   "source": [
    "def cal(a,b):\n",
    "    def area():\n",
    "        return a*b\n",
    "    def per():\n",
    "        return 2*(a+b)\n",
    "    print(\"area of rectangle:\",area())\n",
    "    print(\"perameter of rectangle:\",per())\n",
    "a=int(input(\"enter the 'a':\"))\n",
    "b=int(input(\"enter the 'b':\"))\n",
    "cal(a,b,)"
   ]
  },
  {
   "cell_type": "code",
   "execution_count": 31,
   "id": "2c27c6ca-18ec-465a-902b-98035496167d",
   "metadata": {},
   "outputs": [
    {
     "name": "stdin",
     "output_type": "stream",
     "text": [
      "enter the 'a': 5\n",
      "enter the 'b': 6\n",
      "enter the value 'c': 7\n"
     ]
    },
    {
     "name": "stdout",
     "output_type": "stream",
     "text": [
      "area of triangle: 15.0\n",
      "perameter of triangle: 18\n"
     ]
    }
   ],
   "source": [
    "def cal(a,b,c):\n",
    "    def area():\n",
    "        return 1/2*a*b\n",
    "    def per():\n",
    "        return a+b+c\n",
    "    print(\"area of triangle:\",area())\n",
    "    print(\"perameter of triangle:\",per())\n",
    "a=int(input(\"enter the 'a':\"))\n",
    "b=int(input(\"enter the 'b':\"))\n",
    "c=int(input(\"enter the value 'c':\"))\n",
    "cal(a,b,c)"
   ]
  },
  {
   "cell_type": "code",
   "execution_count": null,
   "id": "dbb37aab-1351-43ab-b023-917d645e3381",
   "metadata": {},
   "outputs": [],
   "source": []
  }
 ],
 "metadata": {
  "kernelspec": {
   "display_name": "Python 3 (ipykernel)",
   "language": "python",
   "name": "python3"
  },
  "language_info": {
   "codemirror_mode": {
    "name": "ipython",
    "version": 3
   },
   "file_extension": ".py",
   "mimetype": "text/x-python",
   "name": "python",
   "nbconvert_exporter": "python",
   "pygments_lexer": "ipython3",
   "version": "3.12.7"
  }
 },
 "nbformat": 4,
 "nbformat_minor": 5
}
