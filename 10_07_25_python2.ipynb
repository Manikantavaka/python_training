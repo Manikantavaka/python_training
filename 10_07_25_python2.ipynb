{
 "cells": [
  {
   "cell_type": "code",
   "execution_count": 9,
   "id": "9696da34-c089-4ca6-8025-3717938584ed",
   "metadata": {},
   "outputs": [
    {
     "name": "stdin",
     "output_type": "stream",
     "text": [
      "Enter the number as space separated:  10 11 12 32 41 543 \n"
     ]
    },
    {
     "name": "stdout",
     "output_type": "stream",
     "text": [
      "even count: 3 odd count: 3\n"
     ]
    }
   ],
   "source": [
    "def eo(numbers):\n",
    "    e=0\n",
    "    o=0\n",
    "    for n in numbers:\n",
    "        if n%2==0:\n",
    "            e+=1\n",
    "        else:\n",
    "            o+=1\n",
    "    return e,o\n",
    "num=input(\"Enter the number as space separated: \")\n",
    "num_list=list(map(int, num.split()))\n",
    "e,o=eo(num_list)\n",
    "print(\"even count:\",e,\"odd count:\",o)\n"
   ]
  },
  {
   "cell_type": "code",
   "execution_count": 15,
   "id": "cae6dddc-9fc6-48a5-9ddf-f88cf71dee27",
   "metadata": {},
   "outputs": [
    {
     "name": "stdout",
     "output_type": "stream",
     "text": [
      "27\n"
     ]
    }
   ],
   "source": [
    "expo=lambda a:a**a\n",
    "print(expo(3))"
   ]
  },
  {
   "cell_type": "code",
   "execution_count": 17,
   "id": "fcd660b3-13db-432d-a1b3-dff6ee6ea05d",
   "metadata": {},
   "outputs": [
    {
     "name": "stdout",
     "output_type": "stream",
     "text": [
      "sum: 15\n"
     ]
    }
   ],
   "source": [
    "add=lambda a,b:a+b\n",
    "print(\"sum:\",add(7,8))"
   ]
  },
  {
   "cell_type": "code",
   "execution_count": 21,
   "id": "5486108d-b8c6-4cbb-a409-5a92b3444e1f",
   "metadata": {},
   "outputs": [
    {
     "name": "stdout",
     "output_type": "stream",
     "text": [
      "is 6 even? True\n"
     ]
    }
   ],
   "source": [
    "is_even=lambda n:n%2==0\n",
    "print(\"is 6 even?\",is_even(6))"
   ]
  },
  {
   "cell_type": "code",
   "execution_count": 29,
   "id": "a6466e72-a547-4c6a-af7d-a5bee24e35b0",
   "metadata": {},
   "outputs": [
    {
     "name": "stdout",
     "output_type": "stream",
     "text": [
      "squares: [1, 4, 9, 16, 25, 36, 49, 64, 81, 100]\n"
     ]
    }
   ],
   "source": [
    "nums=[1,2,3,4,5,6,7,8,9,10]\n",
    "sq=list(map(lambda n:n*n,nums))\n",
    "print(\"squares:\",sq)"
   ]
  },
  {
   "cell_type": "code",
   "execution_count": null,
   "id": "805f6b95-35db-44c8-a634-98b3ae2ed16b",
   "metadata": {},
   "outputs": [],
   "source": []
  }
 ],
 "metadata": {
  "kernelspec": {
   "display_name": "Python 3 (ipykernel)",
   "language": "python",
   "name": "python3"
  },
  "language_info": {
   "codemirror_mode": {
    "name": "ipython",
    "version": 3
   },
   "file_extension": ".py",
   "mimetype": "text/x-python",
   "name": "python",
   "nbconvert_exporter": "python",
   "pygments_lexer": "ipython3",
   "version": "3.12.7"
  }
 },
 "nbformat": 4,
 "nbformat_minor": 5
}
