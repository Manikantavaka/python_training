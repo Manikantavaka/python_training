{
 "cells": [
  {
   "cell_type": "code",
   "execution_count": 3,
   "id": "1aec7098-4802-4614-a921-f6922de69be8",
   "metadata": {},
   "outputs": [
    {
     "name": "stdout",
     "output_type": "stream",
     "text": [
      "this is outer function....\n",
      "this is inner function....\n"
     ]
    }
   ],
   "source": [
    "def outer():\n",
    "    print(\"this is outer function....\")\n",
    "    def inner():\n",
    "        print(\"this is inner function....\")\n",
    "    inner()\n",
    "outer()"
   ]
  },
  {
   "cell_type": "code",
   "execution_count": 9,
   "id": "a39fe88b-3a3c-4ba9-8e55-6a859d428bfc",
   "metadata": {},
   "outputs": [
    {
     "name": "stdin",
     "output_type": "stream",
     "text": [
      "enter the value: 8\n",
      "enter the value: 4\n"
     ]
    },
    {
     "name": "stdout",
     "output_type": "stream",
     "text": [
      "addition       : 12\n",
      "subtraction    : 4\n",
      "multiplication : 32\n"
     ]
    }
   ],
   "source": [
    "def cal(a,b):\n",
    "    def add():\n",
    "        return(a+b)\n",
    "    def sub():\n",
    "        return a-b\n",
    "    def mul():\n",
    "        return a*b\n",
    "    print(\"addition       :\",add())\n",
    "    print(\"subtraction    :\",sub())\n",
    "    print(\"multiplication :\",mul())\n",
    "a=int(input(\"enter the value:\"))\n",
    "b=int(input(\"enter the value:\"))\n",
    "cal(a,b)"
   ]
  },
  {
   "cell_type": "code",
   "execution_count": 13,
   "id": "e17f99c0-0e80-4c2b-a079-d781746308aa",
   "metadata": {},
   "outputs": [
    {
     "name": "stdout",
     "output_type": "stream",
     "text": [
      "10\n",
      "15\n"
     ]
    }
   ],
   "source": [
    "def mul_by(n):\n",
    "    def inner(x):\n",
    "        return x*n\n",
    "    return inner\n",
    "times_2=mul_by(2)\n",
    "times_3=mul_by(3)\n",
    "print(times_2(5))\n",
    "print(times_3(5))"
   ]
  },
  {
   "cell_type": "code",
   "execution_count": 25,
   "id": "508c4974-7228-44f3-b810-3a364da0f771",
   "metadata": {},
   "outputs": [
    {
     "name": "stdout",
     "output_type": "stream",
     "text": [
      "Hello, Raju!!!!\n"
     ]
    }
   ],
   "source": [
    "def greet(txt):\n",
    "    def inner(name):\n",
    "        return f\"{txt}, {name}!!!!\"\n",
    "    return inner\n",
    "hi=greet('Hello')\n",
    "print(hi('Raju'))"
   ]
  },
  {
   "cell_type": "code",
   "execution_count": 31,
   "id": "c91d1653-fd1b-46f2-afd3-676c7dfaaaef",
   "metadata": {},
   "outputs": [
    {
     "name": "stdout",
     "output_type": "stream",
     "text": [
      "Hello, Mr.Mani\n",
      "Hello, Dr.Ash\n"
     ]
    }
   ],
   "source": [
    "def titled(titled):\n",
    "    def greet(name):\n",
    "        return f\"Hello, {titled}{name}\"\n",
    "    return greet\n",
    "mr_greet=titled(\"Mr.\")\n",
    "dr_greet=titled(\"Dr.\")\n",
    "print(mr_greet(\"Mani\"))\n",
    "print(dr_greet(\"Ash\"))"
   ]
  },
  {
   "cell_type": "code",
   "execution_count": 33,
   "id": "e63a6cb4-0e04-4da6-bbac-0f23dda35ca0",
   "metadata": {},
   "outputs": [
    {
     "name": "stdout",
     "output_type": "stream",
     "text": [
      "x= 100\n",
      "x= 100\n"
     ]
    }
   ],
   "source": [
    "x=100\n",
    "def disp():\n",
    "    print(\"x=\",x)\n",
    "disp()\n",
    "print(\"x=\",x)"
   ]
  },
  {
   "cell_type": "code",
   "execution_count": 35,
   "id": "1f3d076d-8212-4f9d-985c-a92ef4567011",
   "metadata": {},
   "outputs": [
    {
     "name": "stdout",
     "output_type": "stream",
     "text": [
      "x= 22\n",
      "x= 100\n"
     ]
    }
   ],
   "source": [
    "x=100\n",
    "def disp():\n",
    "    x=22\n",
    "    print(\"x=\",x)\n",
    "disp()\n",
    "print(\"x=\",x)"
   ]
  },
  {
   "cell_type": "code",
   "execution_count": 43,
   "id": "dba7d6a5-2b1e-4bdf-a578-4bcdce3af265",
   "metadata": {},
   "outputs": [
    {
     "name": "stdout",
     "output_type": "stream",
     "text": [
      "x= 22\n",
      "locally 32\n",
      "x= 100\n",
      "25\n",
      "globally 125\n"
     ]
    }
   ],
   "source": [
    "x=100\n",
    "y=10\n",
    "def disp():\n",
    "    x=22\n",
    "    print(\"x=\",x)\n",
    "    print(\"locally\",x+y)\n",
    "disp()\n",
    "print(\"x=\",x)\n",
    "y=25\n",
    "print(y)\n",
    "print(\"globally\",x+y)"
   ]
  },
  {
   "cell_type": "code",
   "execution_count": 47,
   "id": "5312ee19-b318-4019-9da0-69ed20983b99",
   "metadata": {},
   "outputs": [
    {
     "name": "stdin",
     "output_type": "stream",
     "text": [
      "Enter the marks of a subject: 45\n"
     ]
    },
    {
     "name": "stdout",
     "output_type": "stream",
     "text": [
      "subject1 marks: 45\n"
     ]
    },
    {
     "name": "stdin",
     "output_type": "stream",
     "text": [
      "Enter the marks of a subject: 54\n"
     ]
    },
    {
     "name": "stdout",
     "output_type": "stream",
     "text": [
      "subject2 marks: 54\n"
     ]
    },
    {
     "name": "stdin",
     "output_type": "stream",
     "text": [
      "Enter the marks of a subject: 34\n"
     ]
    },
    {
     "name": "stdout",
     "output_type": "stream",
     "text": [
      "subject3 marks: 34\n",
      "total marks: 133\n"
     ]
    }
   ],
   "source": [
    "total=0\n",
    "def add_subject_marks():\n",
    "    global total\n",
    "    marks=int(input(\"Enter the marks of a subject:\"))\n",
    "    total+=marks\n",
    "    return marks\n",
    "print(\"subject1 marks:\",add_subject_marks())\n",
    "print(\"subject2 marks:\",add_subject_marks())\n",
    "print(\"subject3 marks:\",add_subject_marks())\n",
    "print(\"total marks:\",total)"
   ]
  },
  {
   "cell_type": "code",
   "execution_count": 61,
   "id": "29322e92-3b7d-49e1-b207-ef97249515ba",
   "metadata": {},
   "outputs": [
    {
     "name": "stdin",
     "output_type": "stream",
     "text": [
      "Enter the marks for a subject: 45\n"
     ]
    },
    {
     "name": "stdout",
     "output_type": "stream",
     "text": [
      "subject 1 marks: 45\n"
     ]
    },
    {
     "name": "stdin",
     "output_type": "stream",
     "text": [
      "Enter the marks for a subject: 46\n"
     ]
    },
    {
     "name": "stdout",
     "output_type": "stream",
     "text": [
      "subject 2 marks: 46\n"
     ]
    },
    {
     "name": "stdin",
     "output_type": "stream",
     "text": [
      "Enter the marks for a subject: 47\n"
     ]
    },
    {
     "name": "stdout",
     "output_type": "stream",
     "text": [
      "subject 3 marks: 47\n",
      "All subject marks: [45, 46, 47]\n",
      "Total marks: 138\n",
      "Average 46.0\n"
     ]
    }
   ],
   "source": [
    "sub_marks=[]\n",
    "def add_sub_marks():\n",
    "    mark=int(input(\"Enter the marks for a subject:\"))\n",
    "    sub_marks.append(mark)\n",
    "    return mark\n",
    "print(\"subject 1 marks:\",add_sub_marks())\n",
    "print(\"subject 2 marks:\",add_sub_marks())\n",
    "print(\"subject 3 marks:\",add_sub_marks())\n",
    "print(\"All subject marks:\",sub_marks)\n",
    "total=sum(sub_marks)\n",
    "l=len(sub_marks)\n",
    "avg=total/l\n",
    "print(\"Total marks:\",total)\n",
    "print(\"Average\",avg)"
   ]
  },
  {
   "cell_type": "code",
   "execution_count": null,
   "id": "8cdf0ed6-dcfb-41a7-990e-a90d51a0a1db",
   "metadata": {},
   "outputs": [],
   "source": []
  }
 ],
 "metadata": {
  "kernelspec": {
   "display_name": "Python 3 (ipykernel)",
   "language": "python",
   "name": "python3"
  },
  "language_info": {
   "codemirror_mode": {
    "name": "ipython",
    "version": 3
   },
   "file_extension": ".py",
   "mimetype": "text/x-python",
   "name": "python",
   "nbconvert_exporter": "python",
   "pygments_lexer": "ipython3",
   "version": "3.12.7"
  }
 },
 "nbformat": 4,
 "nbformat_minor": 5
}
