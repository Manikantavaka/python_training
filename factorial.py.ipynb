{
 "cells": [
  {
   "cell_type": "code",
   "execution_count": 9,
   "id": "50dee736-6ba0-4d05-8082-e1ef1cfe5dab",
   "metadata": {},
   "outputs": [
    {
     "name": "stdin",
     "output_type": "stream",
     "text": [
      "enter the value: 7\n"
     ]
    },
    {
     "name": "stdout",
     "output_type": "stream",
     "text": [
      "Factorial of 7 is  5040\n"
     ]
    }
   ],
   "source": [
    "f=1\n",
    "def factorial(n):\n",
    "    global f\n",
    "    f=1\n",
    "    for i in range(1,n+1):\n",
    "        f*=i\n",
    "    return f\n",
    "n=int(input(\"enter the value:\"))\n",
    "if n<0:\n",
    "    print(\"Cannot derive factorial for negative numbers!!!\")\n",
    "else:\n",
    "    factorial(n)\n",
    "    print(f\"Factorial of {n} is \",f)"
   ]
  },
  {
   "cell_type": "code",
   "execution_count": 13,
   "id": "a6efc5d4-9c60-4b69-8cfc-ba868319ab80",
   "metadata": {},
   "outputs": [
    {
     "name": "stdin",
     "output_type": "stream",
     "text": [
      "enter the value: -8\n"
     ]
    },
    {
     "name": "stdout",
     "output_type": "stream",
     "text": [
      "Cannot derive factorial for negative numbers!!!\n"
     ]
    }
   ],
   "source": [
    "f=1\n",
    "def factorial(n):\n",
    "    global f\n",
    "    f=1\n",
    "    for i in range(1,n+1):\n",
    "        f*=i\n",
    "    return f\n",
    "n=int(input(\"enter the value:\"))\n",
    "if n<0:\n",
    "    print(\"Cannot derive factorial for negative numbers!!!\")\n",
    "else:\n",
    "    factorial(n)\n",
    "    print(f\"Factorial of {n} is \",f)"
   ]
  },
  {
   "cell_type": "code",
   "execution_count": null,
   "id": "8ced153a-765d-489f-9939-b1dd42800dea",
   "metadata": {},
   "outputs": [],
   "source": []
  }
 ],
 "metadata": {
  "kernelspec": {
   "display_name": "Python 3 (ipykernel)",
   "language": "python",
   "name": "python3"
  },
  "language_info": {
   "codemirror_mode": {
    "name": "ipython",
    "version": 3
   },
   "file_extension": ".py",
   "mimetype": "text/x-python",
   "name": "python",
   "nbconvert_exporter": "python",
   "pygments_lexer": "ipython3",
   "version": "3.12.7"
  }
 },
 "nbformat": 4,
 "nbformat_minor": 5
}
