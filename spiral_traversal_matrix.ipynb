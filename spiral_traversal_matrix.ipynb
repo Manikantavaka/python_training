{
 "cells": [
  {
   "cell_type": "code",
   "execution_count": 27,
   "id": "af0075a2-428d-4566-b0e9-2dabf70b9089",
   "metadata": {},
   "outputs": [
    {
     "name": "stdin",
     "output_type": "stream",
     "text": [
      "Enter the size: 10\n"
     ]
    },
    {
     "name": "stdout",
     "output_type": "stream",
     "text": [
      "SPIRAL MATRIX\n",
      "  1   2   3   4   5   6   7   8   9  10 \n",
      " 36  37  38  39  40  41  42  43  44  11 \n",
      " 35  64  65  66  67  68  69  70  45  12 \n",
      " 34  63  84  85  86  87  88  71  46  13 \n",
      " 33  62  83  96  97  98  89  72  47  14 \n",
      " 32  61  82  95 100  99  90  73  48  15 \n",
      " 31  60  81  94  93  92  91  74  49  16 \n",
      " 30  59  80  79  78  77  76  75  50  17 \n",
      " 29  58  57  56  55  54  53  52  51  18 \n",
      " 28  27  26  25  24  23  22  21  20  19 \n"
     ]
    }
   ],
   "source": [
    "n=int(input(\"Enter the size:\"))\n",
    "print(\"SPIRAL MATRIX\")\n",
    "matrix=[[0]*n for _ in range(n)]\n",
    "top,left=0,0\n",
    "right,bottom=n-1,n-1\n",
    "num=1\n",
    "while top<=bottom and left<=right:\n",
    "    for i in range(left,right+1):\n",
    "        matrix[top][i]=num\n",
    "        num+=1\n",
    "    top+=1\n",
    "    for i in range(top,bottom+1):\n",
    "        matrix[i][right]=num\n",
    "        num+=1\n",
    "    right-=1\n",
    "    for i in range(right,left-1,-1):\n",
    "        matrix[bottom][i]=num\n",
    "        num+=1\n",
    "    bottom-=1\n",
    "    for i in range(bottom,top-1,-1):\n",
    "        matrix[i][left]=num\n",
    "        num+=1\n",
    "    left+=1\n",
    "for row in matrix:\n",
    "    for val in row:\n",
    "        print(f\"{val:3}\",end=' ')\n",
    "    print()"
   ]
  },
  {
   "cell_type": "code",
   "execution_count": 29,
   "id": "e55671f5-015a-4659-a89b-a97848cc89c0",
   "metadata": {},
   "outputs": [
    {
     "name": "stdout",
     "output_type": "stream",
     "text": [
      "TRAVERSAL MATRIX\n",
      "1 2 3 4 8 12 16 15 14 13 9 5 6 7 11 10 "
     ]
    }
   ],
   "source": [
    "matrix=[[1,2,3,4],[5,6,7,8],[9,10,11,12],[13,14,15,16]]\n",
    "print(\"TRAVERSAL MATRIX\")\n",
    "rows=len(matrix)\n",
    "cols=len(matrix[0])\n",
    "top,left=0,0\n",
    "right,bottom=cols-1,rows-1\n",
    "num=1\n",
    "while top<=bottom and left<=right:\n",
    "    for i in range(left,right+1):\n",
    "        print(matrix[top][i],end=\" \")\n",
    "    top+=1\n",
    "    for i in range(top,bottom+1):\n",
    "        print(matrix[i][right],end=\" \")\n",
    "    right-=1\n",
    "    for i in range(right,left-1,-1):\n",
    "        print(matrix[bottom][i],end=\" \")\n",
    "    bottom-=1\n",
    "    for i in range(bottom,top-1,-1):\n",
    "        print(matrix[i][left],end=\" \")\n",
    "    left+=1\n"
   ]
  },
  {
   "cell_type": "code",
   "execution_count": 43,
   "id": "33ccd200-4224-4851-8946-498a8a62ffd1",
   "metadata": {},
   "outputs": [
    {
     "name": "stdin",
     "output_type": "stream",
     "text": [
      " 7\n"
     ]
    },
    {
     "name": "stdout",
     "output_type": "stream",
     "text": [
      "prime number\n"
     ]
    }
   ],
   "source": [
    "n=int(input())\n",
    "count=0\n",
    "if n>1:\n",
    "    for i in range(1,n+1):\n",
    "        if n%i==0:\n",
    "            count+=1\n",
    "    if count==2:\n",
    "        print(\"prime number\")"
   ]
  },
  {
   "cell_type": "code",
   "execution_count": 49,
   "id": "c6977996-683a-40fb-96c4-d46e8731d2d5",
   "metadata": {},
   "outputs": [
    {
     "name": "stdin",
     "output_type": "stream",
     "text": [
      "Enter the size: 10\n"
     ]
    },
    {
     "name": "stdout",
     "output_type": "stream",
     "text": [
      "SPIRAL MATRIX\n",
      "A  B  C  D  E  F  G  H  I  J  \n",
      "J  K  L  M  N  O  P  Q  R  K  \n",
      "I  L  M  N  O  P  Q  R  S  L  \n",
      "H  K  F  G  H  I  J  S  T  M  \n",
      "G  J  E  R  S  T  K  T  U  N  \n",
      "F  I  D  Q  V  U  L  U  V  O  \n",
      "E  H  C  P  O  N  M  V  W  P  \n",
      "D  G  B  A  Z  Y  X  W  X  Q  \n",
      "C  F  E  D  C  B  A  Z  Y  R  \n",
      "B  A  Z  Y  X  W  V  U  T  S  \n"
     ]
    }
   ],
   "source": [
    "n=int(input(\"Enter the size:\"))\n",
    "print(\"SPIRAL MATRIX\")\n",
    "matrix=[[' ']*n for _ in range(n)]\n",
    "ch=65\n",
    "top,left=0,0\n",
    "right,bottom=n-1,n-1\n",
    "while top<=bottom and left<=right:\n",
    "    for i in range(left,right+1):\n",
    "        matrix[top][i]=chr(ch)\n",
    "        ch+=1\n",
    "        if ch>90:\n",
    "            ch=65\n",
    "    top+=1\n",
    "    for i in range(top,bottom+1):\n",
    "        matrix[i][right]=chr(ch)\n",
    "        ch+=1\n",
    "        if ch>90:\n",
    "            ch=65\n",
    "    right-=1\n",
    "    for i in range(right,left-1,-1):\n",
    "        matrix[bottom][i]=chr(ch)\n",
    "        ch+=1\n",
    "        if ch>90:\n",
    "            ch=65\n",
    "    bottom-=1\n",
    "    for i in range(bottom,top-1,-1):\n",
    "        matrix[i][left]=chr(ch)\n",
    "        ch+=1\n",
    "        if ch>90:\n",
    "            ch=65\n",
    "    left+=1\n",
    "for row in matrix:\n",
    "    for val in row:\n",
    "        print(f\"{val:2}\",end=' ')\n",
    "    print()"
   ]
  },
  {
   "cell_type": "code",
   "execution_count": null,
   "id": "81fdb037-6499-4946-81f5-6a7d30bb1805",
   "metadata": {},
   "outputs": [],
   "source": []
  }
 ],
 "metadata": {
  "kernelspec": {
   "display_name": "Python 3 (ipykernel)",
   "language": "python",
   "name": "python3"
  },
  "language_info": {
   "codemirror_mode": {
    "name": "ipython",
    "version": 3
   },
   "file_extension": ".py",
   "mimetype": "text/x-python",
   "name": "python",
   "nbconvert_exporter": "python",
   "pygments_lexer": "ipython3",
   "version": "3.12.7"
  }
 },
 "nbformat": 4,
 "nbformat_minor": 5
}
