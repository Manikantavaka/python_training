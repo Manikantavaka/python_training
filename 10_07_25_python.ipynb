{
 "cells": [
  {
   "cell_type": "code",
   "execution_count": 5,
   "id": "b166f168-ad1c-40c5-acd4-7f0d742794bb",
   "metadata": {},
   "outputs": [
    {
     "name": "stdout",
     "output_type": "stream",
     "text": [
      "hello world\n",
      "mani mani mani mani mani \n"
     ]
    }
   ],
   "source": [
    "def hi():\n",
    "    print(\"hello world\")\n",
    "    print(\"mani \"*5)\n",
    "hi()"
   ]
  },
  {
   "cell_type": "code",
   "execution_count": 9,
   "id": "c0aa6865-6c68-411a-a035-bccaa9d06404",
   "metadata": {},
   "outputs": [
    {
     "name": "stdin",
     "output_type": "stream",
     "text": [
      "enter the money 99\n",
      "enter the money 1\n"
     ]
    },
    {
     "name": "stdout",
     "output_type": "stream",
     "text": [
      "total amount 100\n"
     ]
    }
   ],
   "source": [
    "def add(a,b):\n",
    "    return a+b\n",
    "s1=int(input(\"enter the money\"))\n",
    "s2=int(input(\"enter the money\"))\n",
    "t= add(s1,s2)\n",
    "print(\"total amount\",t)"
   ]
  },
  {
   "cell_type": "code",
   "execution_count": 13,
   "id": "ac2c6848-be44-496c-a9dc-406b740b9819",
   "metadata": {},
   "outputs": [
    {
     "name": "stdin",
     "output_type": "stream",
     "text": [
      "enter the money 6\n",
      "enter the money 6\n"
     ]
    },
    {
     "name": "stdout",
     "output_type": "stream",
     "text": [
      "total: 12\n",
      "total amount None\n"
     ]
    }
   ],
   "source": [
    "def add(a,b):\n",
    "    print(\"total:\",a+b)\n",
    "s1=int(input(\"enter the money\"))\n",
    "s2=int(input(\"enter the money\"))\n",
    "t= add(s1,s2)\n",
    "print(\"total amount\",t)"
   ]
  },
  {
   "cell_type": "code",
   "execution_count": 15,
   "id": "effe0ab8-c4a7-4cc0-abae-365f5e8404bf",
   "metadata": {},
   "outputs": [
    {
     "name": "stdout",
     "output_type": "stream",
     "text": [
      "value in the function is 3.14159\n"
     ]
    }
   ],
   "source": [
    "def value():\n",
    "    return 3.14159\n",
    "result=value()\n",
    "print(\"value in the function is\", result)"
   ]
  },
  {
   "cell_type": "code",
   "execution_count": 19,
   "id": "a6d0b443-d6f3-4ca3-9e1b-72736713db1e",
   "metadata": {},
   "outputs": [
    {
     "name": "stdin",
     "output_type": "stream",
     "text": [
      "Enter your name: mani\n"
     ]
    },
    {
     "name": "stdout",
     "output_type": "stream",
     "text": [
      "Welcome mani\n"
     ]
    }
   ],
   "source": [
    "def get_name():\n",
    "    name=input(\"Enter your name:\")\n",
    "    return name\n",
    "user_name=get_name()\n",
    "print(\"Welcome\",user_name)"
   ]
  },
  {
   "cell_type": "code",
   "execution_count": 21,
   "id": "dc7a9e20-4ed7-4391-b644-fe148dbb4b3b",
   "metadata": {},
   "outputs": [
    {
     "name": "stdout",
     "output_type": "stream",
     "text": [
      "120\n"
     ]
    }
   ],
   "source": [
    "a=100\n",
    "def value(a):\n",
    "    return a+20\n",
    "print (value(a))\n"
   ]
  },
  {
   "cell_type": "code",
   "execution_count": 24,
   "id": "e9783576-0f70-4f38-83e1-183c485cb3f3",
   "metadata": {},
   "outputs": [
    {
     "name": "stdout",
     "output_type": "stream",
     "text": [
      "120\n"
     ]
    }
   ],
   "source": [
    "a=100\n",
    "def value(a):\n",
    "    return a+20\n",
    "op=value(a)\n",
    "print (op)\n"
   ]
  },
  {
   "cell_type": "code",
   "execution_count": 28,
   "id": "745cdd62-2142-40d1-ab3f-20d493c67e1a",
   "metadata": {},
   "outputs": [
    {
     "name": "stdout",
     "output_type": "stream",
     "text": [
      "Hello Mani\n"
     ]
    }
   ],
   "source": [
    "def hi(name):\n",
    "    print(\"Hello\",name)\n",
    "hi(\"Mani\")"
   ]
  },
  {
   "cell_type": "code",
   "execution_count": 32,
   "id": "d89db198-86a1-4885-9e75-cebde52e4dfe",
   "metadata": {},
   "outputs": [
    {
     "name": "stdin",
     "output_type": "stream",
     "text": [
      "enter the data 8\n"
     ]
    },
    {
     "name": "stdout",
     "output_type": "stream",
     "text": [
      "Hello 8\n"
     ]
    }
   ],
   "source": [
    "def hi(name):\n",
    "    print(\"Hello\",name)\n",
    "a=int(input(\"enter the data\"))\n",
    "hi(a)"
   ]
  },
  {
   "cell_type": "code",
   "execution_count": 36,
   "id": "fafba1c2-ed3b-4d89-9850-bdc7f66c5f3b",
   "metadata": {},
   "outputs": [
    {
     "name": "stdin",
     "output_type": "stream",
     "text": [
      "enter the data 7\n"
     ]
    },
    {
     "name": "stdout",
     "output_type": "stream",
     "text": [
      "Hello 9\n"
     ]
    }
   ],
   "source": [
    "def hi(name=a):\n",
    "    print(\"Hello\",name)\n",
    "a=int(input(\"enter the data\"))\n",
    "hi()"
   ]
  },
  {
   "cell_type": "code",
   "execution_count": 38,
   "id": "36207650-a277-4b3a-9f9b-438f860b1291",
   "metadata": {},
   "outputs": [
    {
     "name": "stdin",
     "output_type": "stream",
     "text": [
      "enter the data 7\n"
     ]
    },
    {
     "name": "stdout",
     "output_type": "stream",
     "text": [
      "Hello guest\n"
     ]
    }
   ],
   "source": [
    "def hi(name='guest'):\n",
    "    print(\"Hello\",name)\n",
    "a=int(input(\"enter the data\"))\n",
    "hi()"
   ]
  },
  {
   "cell_type": "code",
   "execution_count": 42,
   "id": "af14973e-15fb-4805-8040-2648d3034bc9",
   "metadata": {},
   "outputs": [
    {
     "name": "stdin",
     "output_type": "stream",
     "text": [
      "enter the data jack\n"
     ]
    },
    {
     "name": "stdout",
     "output_type": "stream",
     "text": [
      "Hello guest\n",
      "Hello jack\n"
     ]
    }
   ],
   "source": [
    "def hi(name='guest'):\n",
    "    print(\"Hello\",name)\n",
    "a=input(\"enter the data\")\n",
    "hi()\n",
    "hi(a)"
   ]
  },
  {
   "cell_type": "code",
   "execution_count": 54,
   "id": "105eece0-6ac4-46db-9a59-ec9e21e3611f",
   "metadata": {},
   "outputs": [
    {
     "name": "stdout",
     "output_type": "stream",
     "text": [
      "name: Mani\n",
      "age: 21\n",
      "name: mark\n",
      "age: 0\n",
      "name: unknown\n",
      "age: 33\n",
      "name: unknown\n",
      "age: 0\n"
     ]
    }
   ],
   "source": [
    "def info(name='unknown',age=0):\n",
    "    print(\"name:\",name)\n",
    "    print(\"age:\",age)\n",
    "info(\"Mani\",21)\n",
    "info(\"mark\")\n",
    "info(age=33)\n",
    "info()"
   ]
  },
  {
   "cell_type": "code",
   "execution_count": 60,
   "id": "70a4ab2a-39db-4ec0-974a-4809611f3585",
   "metadata": {},
   "outputs": [
    {
     "name": "stdin",
     "output_type": "stream",
     "text": [
      "enter the value a: 4\n",
      "enter the value b: 2\n"
     ]
    },
    {
     "name": "stdout",
     "output_type": "stream",
     "text": [
      "sum= 6 diff= 2 pro= 8 div= 2.0\n"
     ]
    }
   ],
   "source": [
    "def cal(a,b):\n",
    "    return a+b,a-b,a*b,a/b\n",
    "a=int(input(\"enter the value a:\"))\n",
    "b=int(input(\"enter the value b:\"))\n",
    "sum,diff,pro,div=cal(a,b)\n",
    "print(\"sum=\",sum,\"diff=\",diff,\"pro=\",pro,\"div=\",div)\n",
    "\n"
   ]
  },
  {
   "cell_type": "code",
   "execution_count": 74,
   "id": "b8b5f2d3-8eb7-4c38-ba03-7932bb0a0e18",
   "metadata": {},
   "outputs": [
    {
     "name": "stdin",
     "output_type": "stream",
     "text": [
      "enter a: 87\n",
      "enter b: 345\n",
      "enter c: 23\n"
     ]
    },
    {
     "name": "stdout",
     "output_type": "stream",
     "text": [
      "max= 345 min= 23\n"
     ]
    }
   ],
   "source": [
    "def inf(a,b,c):\n",
    "    return max(a,b,c),min(a,b,c)\n",
    "a=int(input(\"enter a:\"))\n",
    "b=int(input(\"enter b:\"))\n",
    "c=int(input(\"enter c:\"))\n",
    "max_,min_=inf(a,b,c)\n",
    "print(\"max=\",max_,\"min=\",min_)"
   ]
  },
  {
   "cell_type": "code",
   "execution_count": 66,
   "id": "9de137b4-3035-48a9-95ab-3ac332947fec",
   "metadata": {},
   "outputs": [
    {
     "name": "stdout",
     "output_type": "stream",
     "text": [
      "34\n"
     ]
    }
   ],
   "source": [
    "a=34\n",
    "b=21\n",
    "g=max(a,b)\n",
    "print(g)"
   ]
  },
  {
   "cell_type": "code",
   "execution_count": null,
   "id": "4bf5f922-54bc-40a1-946f-14332792a23d",
   "metadata": {},
   "outputs": [],
   "source": []
  }
 ],
 "metadata": {
  "kernelspec": {
   "display_name": "Python 3 (ipykernel)",
   "language": "python",
   "name": "python3"
  },
  "language_info": {
   "codemirror_mode": {
    "name": "ipython",
    "version": 3
   },
   "file_extension": ".py",
   "mimetype": "text/x-python",
   "name": "python",
   "nbconvert_exporter": "python",
   "pygments_lexer": "ipython3",
   "version": "3.12.7"
  }
 },
 "nbformat": 4,
 "nbformat_minor": 5
}
