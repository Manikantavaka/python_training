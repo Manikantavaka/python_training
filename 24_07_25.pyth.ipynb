{
 "cells": [
  {
   "cell_type": "code",
   "execution_count": 30,
   "id": "ae9dfaeb-808c-477c-a000-f5c80c4ee38e",
   "metadata": {},
   "outputs": [
    {
     "name": "stdin",
     "output_type": "stream",
     "text": [
      "Enter the fibinacci limit: 6\n"
     ]
    },
    {
     "name": "stdout",
     "output_type": "stream",
     "text": [
      "[0, 1, 1, 2, 3, 5]\n"
     ]
    }
   ],
   "source": [
    "def fib(n):\n",
    "    if n<=1:\n",
    "        return n\n",
    "    return fib(n-1)+fib(n-2)\n",
    "n=int(input(\"Enter the fibinacci limit:\"))\n",
    "k=[]\n",
    "for i in range(n):\n",
    "    d=fib(i)\n",
    "    #print(d)\n",
    "    k.append(d)\n",
    "print(k)"
   ]
  },
  {
   "cell_type": "code",
   "execution_count": 60,
   "id": "bd8d7a12-f0b1-428a-b7df-42d5e62aeb4c",
   "metadata": {},
   "outputs": [
    {
     "name": "stdin",
     "output_type": "stream",
     "text": [
      "give the sequence: abcd\n"
     ]
    },
    {
     "name": "stdout",
     "output_type": "stream",
     "text": [
      "Possible combinations....\n",
      "abcd\n",
      "abdc\n",
      "acbd\n",
      "acdb\n",
      "adbc\n",
      "adcb\n",
      "bacd\n",
      "badc\n",
      "bcad\n",
      "bcda\n",
      "bdac\n",
      "bdca\n",
      "cabd\n",
      "cadb\n",
      "cbad\n",
      "cbda\n",
      "cdab\n",
      "cdba\n",
      "dabc\n",
      "dacb\n",
      "dbac\n",
      "dbca\n",
      "dcab\n",
      "dcba\n"
     ]
    }
   ],
   "source": [
    "def p(s,b=''):\n",
    "    if not s:\n",
    "        print(b)\n",
    "        return\n",
    "    for i in range(len(s)):\n",
    "        f=s[:i]+s[i+1:]\n",
    "        p(f,b+s[i])\n",
    "txt=input(\"give the sequence:\")\n",
    "print(\"Possible combinations....\")\n",
    "p(txt)\n"
   ]
  },
  {
   "cell_type": "code",
   "execution_count": 92,
   "id": "c81b1bb7-d47f-417d-b219-8770ed160191",
   "metadata": {},
   "outputs": [
    {
     "name": "stdin",
     "output_type": "stream",
     "text": [
      "Enter the required factorial: 7\n"
     ]
    },
    {
     "name": "stdout",
     "output_type": "stream",
     "text": [
      "5040\n"
     ]
    }
   ],
   "source": [
    "def f(k):\n",
    "    g=1\n",
    "    for i in range(1,k+1):\n",
    "        g*=i\n",
    "    return g\n",
    "k=int(input(\"Enter the required factorial:\"))\n",
    "print(f(k))"
   ]
  },
  {
   "cell_type": "code",
   "execution_count": 78,
   "id": "84050d33-ccf8-4908-b826-2e277343f54f",
   "metadata": {},
   "outputs": [
    {
     "name": "stdin",
     "output_type": "stream",
     "text": [
      "Enter a number: 43\n"
     ]
    },
    {
     "name": "stdout",
     "output_type": "stream",
     "text": [
      "43\n",
      "42\n"
     ]
    }
   ],
   "source": [
    "def head(n):\n",
    "    if n==0:\n",
    "        return\n",
    "    print(n)\n",
    "    print(n-1)\n",
    "num=int(input(\"Enter a number:\"))\n",
    "head(num)"
   ]
  },
  {
   "cell_type": "code",
   "execution_count": 94,
   "id": "a0db8696-021a-4f42-a19a-5099cf59d856",
   "metadata": {},
   "outputs": [
    {
     "name": "stdin",
     "output_type": "stream",
     "text": [
      " 23\n"
     ]
    },
    {
     "ename": "NameError",
     "evalue": "name 'b' is not defined",
     "output_type": "error",
     "traceback": [
      "\u001b[1;31m---------------------------------------------------------------------------\u001b[0m",
      "\u001b[1;31mNameError\u001b[0m                                 Traceback (most recent call last)",
      "Cell \u001b[1;32mIn[94], line 8\u001b[0m\n\u001b[0;32m      6\u001b[0m     binary(n\u001b[38;5;241m-\u001b[39m\u001b[38;5;241m1\u001b[39m,b\u001b[38;5;241m+\u001b[39m\u001b[38;5;124m'\u001b[39m\u001b[38;5;124m1\u001b[39m\u001b[38;5;124m'\u001b[39m)\n\u001b[0;32m      7\u001b[0m length\u001b[38;5;241m=\u001b[39m\u001b[38;5;28mint\u001b[39m(\u001b[38;5;28minput\u001b[39m())\n\u001b[1;32m----> 8\u001b[0m binary(length)\n",
      "Cell \u001b[1;32mIn[94], line 5\u001b[0m, in \u001b[0;36mbinary\u001b[1;34m(n)\u001b[0m\n\u001b[0;32m      3\u001b[0m     \u001b[38;5;28mprint\u001b[39m(b)\n\u001b[0;32m      4\u001b[0m     \u001b[38;5;28;01mreturn\u001b[39;00m\n\u001b[1;32m----> 5\u001b[0m binary(n\u001b[38;5;241m-\u001b[39m\u001b[38;5;241m1\u001b[39m,b\u001b[38;5;241m+\u001b[39m\u001b[38;5;124m'\u001b[39m\u001b[38;5;124m0\u001b[39m\u001b[38;5;124m'\u001b[39m)\n\u001b[0;32m      6\u001b[0m binary(n\u001b[38;5;241m-\u001b[39m\u001b[38;5;241m1\u001b[39m,b\u001b[38;5;241m+\u001b[39m\u001b[38;5;124m'\u001b[39m\u001b[38;5;124m1\u001b[39m\u001b[38;5;124m'\u001b[39m)\n",
      "\u001b[1;31mNameError\u001b[0m: name 'b' is not defined"
     ]
    }
   ],
   "source": [
    "def binary(n):\n",
    "    if n==0:\n",
    "        print(b)\n",
    "        return\n",
    "    binary(n-1,b+'0')\n",
    "    binary(n-1,b+'1')\n",
    "length=int(input())\n",
    "binary(length)"
   ]
  },
  {
   "cell_type": "code",
   "execution_count": 86,
   "id": "2473f461-66f1-4b88-84a2-288b52c1dbca",
   "metadata": {},
   "outputs": [
    {
     "name": "stdin",
     "output_type": "stream",
     "text": [
      "Enter a nuumber: 4\n"
     ]
    },
    {
     "name": "stdout",
     "output_type": "stream",
     "text": [
      "sum 10\n"
     ]
    }
   ],
   "source": [
    "def sumhead(n):\n",
    "    if n==0:\n",
    "        return 0\n",
    "    return n+sumhead(n-1)\n",
    "num=int(input(\"Enter a nuumber:\"))\n",
    "print(\"sum\",sumhead(num))"
   ]
  },
  {
   "cell_type": "code",
   "execution_count": 90,
   "id": "e09a3d11-c87b-4ea6-bab4-9896368ac9ec",
   "metadata": {},
   "outputs": [
    {
     "name": "stdin",
     "output_type": "stream",
     "text": [
      "Enter a number: 5\n"
     ]
    },
    {
     "name": "stdout",
     "output_type": "stream",
     "text": [
      "sum 15\n"
     ]
    }
   ],
   "source": [
    "def sumtail(n,temp=0):\n",
    "    if n==0:\n",
    "        return temp\n",
    "    return sumtail(n-1,temp+n)\n",
    "n=int(input(\"Enter a number:\"))\n",
    "print(\"sum\",sumtail(n))"
   ]
  },
  {
   "cell_type": "code",
   "execution_count": null,
   "id": "32d99f15-2ccb-47c2-b28f-53b5cb18ad1c",
   "metadata": {},
   "outputs": [],
   "source": []
  }
 ],
 "metadata": {
  "kernelspec": {
   "display_name": "Python 3 (ipykernel)",
   "language": "python",
   "name": "python3"
  },
  "language_info": {
   "codemirror_mode": {
    "name": "ipython",
    "version": 3
   },
   "file_extension": ".py",
   "mimetype": "text/x-python",
   "name": "python",
   "nbconvert_exporter": "python",
   "pygments_lexer": "ipython3",
   "version": "3.12.7"
  }
 },
 "nbformat": 4,
 "nbformat_minor": 5
}
