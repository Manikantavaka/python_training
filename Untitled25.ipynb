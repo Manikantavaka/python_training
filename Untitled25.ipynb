{
 "cells": [
  {
   "cell_type": "code",
   "execution_count": 3,
   "id": "890ff34c-9e76-408b-a0c8-6261de81b880",
   "metadata": {},
   "outputs": [
    {
     "name": "stdin",
     "output_type": "stream",
     "text": [
      "Enter the size 5\n"
     ]
    },
    {
     "name": "stdout",
     "output_type": "stream",
     "text": [
      "* * * * * \n",
      "*       * \n",
      "*       * \n",
      "*       * \n",
      "* * * * * \n"
     ]
    }
   ],
   "source": [
    "n=int(input(\"Enter the size\"))\n",
    "for i in range(n):\n",
    "    for j in range(n):\n",
    "        if i==0 or i==n-1 or j==0 or j==n-1:\n",
    "            print(\"*\",end=\" \")\n",
    "        else:\n",
    "            print(\" \",end=\" \")\n",
    "    print()"
   ]
  },
  {
   "cell_type": "code",
   "execution_count": 5,
   "id": "aa3810ee-8a7c-4e58-bf8f-655199e1a875",
   "metadata": {},
   "outputs": [
    {
     "name": "stdin",
     "output_type": "stream",
     "text": [
      "Enter the size 5\n"
     ]
    },
    {
     "name": "stdout",
     "output_type": "stream",
     "text": [
      "* * * * * \n",
      "* *   * * \n",
      "*   *   * \n",
      "* *   * * \n",
      "* * * * * \n"
     ]
    }
   ],
   "source": [
    "n=int(input(\"Enter the size\"))\n",
    "for i in range(n):\n",
    "    for j in range(n):\n",
    "        if i==0 or i==n-1 or j==0 or j==n-1 or i==j or i+j==n-1:\n",
    "            print(\"*\",end=\" \")\n",
    "        else:\n",
    "            print(\" \",end=\" \")\n",
    "    print()"
   ]
  },
  {
   "cell_type": "code",
   "execution_count": 7,
   "id": "074d0ad3-2994-436b-abed-be8d7d7d022e",
   "metadata": {},
   "outputs": [
    {
     "name": "stdin",
     "output_type": "stream",
     "text": [
      "Enter the size 8\n"
     ]
    },
    {
     "name": "stdout",
     "output_type": "stream",
     "text": [
      "* * * * * * * * \n",
      "* *         * * \n",
      "*   *     *   * \n",
      "*     * *     * \n",
      "*     * *     * \n",
      "*   *     *   * \n",
      "* *         * * \n",
      "* * * * * * * * \n"
     ]
    }
   ],
   "source": [
    "n=int(input(\"Enter the size\"))\n",
    "for i in range(n):\n",
    "    for j in range(n):\n",
    "        if i==0 or i==n-1 or j==0 or j==n-1 or i==j or i+j==n-1:\n",
    "            print(\"*\",end=\" \")\n",
    "        else:\n",
    "            print(\" \",end=\" \")\n",
    "    print()"
   ]
  },
  {
   "cell_type": "code",
   "execution_count": 11,
   "id": "875e3ec6-752f-4108-8a1e-cac2db41f85d",
   "metadata": {},
   "outputs": [
    {
     "name": "stdin",
     "output_type": "stream",
     "text": [
      "Enter the size 5\n"
     ]
    },
    {
     "name": "stdout",
     "output_type": "stream",
     "text": [
      "*       * \n",
      "  *   *   \n",
      "    *     \n",
      "  *   *   \n",
      "*       * \n"
     ]
    }
   ],
   "source": [
    "n=int(input(\"Enter the size\"))\n",
    "for i in range(n):\n",
    "    for j in range(n):\n",
    "        if i==j or i+j==n-1:\n",
    "            print(\"*\",end=\" \")\n",
    "        else:\n",
    "            print(\" \",end=\" \")\n",
    "    print()"
   ]
  },
  {
   "cell_type": "code",
   "execution_count": 13,
   "id": "1a75d9f0-d806-478b-a606-89e42f7b4ebe",
   "metadata": {},
   "outputs": [
    {
     "name": "stdin",
     "output_type": "stream",
     "text": [
      "Enter the size 5\n"
     ]
    },
    {
     "name": "stdout",
     "output_type": "stream",
     "text": [
      "* * * * * \n",
      "  *   *   \n",
      "    *     \n",
      "  *   *   \n",
      "* * * * * \n"
     ]
    }
   ],
   "source": [
    "n=int(input(\"Enter the size\"))\n",
    "for i in range(n):\n",
    "    for j in range(n):\n",
    "        if i==0 or i==n-1 or i==j or i+j==n-1:\n",
    "            print(\"*\",end=\" \")\n",
    "        else:\n",
    "            print(\" \",end=\" \")\n",
    "    print()"
   ]
  },
  {
   "cell_type": "code",
   "execution_count": 16,
   "id": "f9f458e3-af5d-4bae-965f-5541212d0312",
   "metadata": {},
   "outputs": [
    {
     "name": "stdin",
     "output_type": "stream",
     "text": [
      "Enter the size 5\n"
     ]
    },
    {
     "name": "stdout",
     "output_type": "stream",
     "text": [
      "*       * \n",
      "* *   * * \n",
      "*   *   * \n",
      "* *   * * \n",
      "*       * \n"
     ]
    }
   ],
   "source": [
    "n=int(input(\"Enter the size\"))\n",
    "for i in range(n):\n",
    "    for j in range(n):\n",
    "        if j==0 or j==n-1 or i==j or i+j==n-1:\n",
    "            print(\"*\",end=\" \")\n",
    "        else:\n",
    "            print(\" \",end=\" \")\n",
    "    print()"
   ]
  },
  {
   "cell_type": "code",
   "execution_count": 24,
   "id": "b07bd38b-1b1b-4af1-94de-f4aec46a2ca9",
   "metadata": {},
   "outputs": [
    {
     "name": "stdin",
     "output_type": "stream",
     "text": [
      "Enter the size 5\n"
     ]
    },
    {
     "name": "stdout",
     "output_type": "stream",
     "text": [
      "*         \n",
      "* *       \n",
      "*   *     \n",
      "*     *   \n",
      "* * * * * \n"
     ]
    }
   ],
   "source": [
    "n=int(input(\"Enter the size\"))\n",
    "for i in range(n):\n",
    "    for j in range(n):\n",
    "        if i==n-1 or j==0 or i==j:\n",
    "            print(\"*\",end=\" \")\n",
    "        else:\n",
    "            print(\" \",end=\" \")\n",
    "    print()"
   ]
  },
  {
   "cell_type": "code",
   "execution_count": 26,
   "id": "527d243f-4729-41d2-be0e-7ec102677a5f",
   "metadata": {},
   "outputs": [
    {
     "name": "stdin",
     "output_type": "stream",
     "text": [
      "Enter the size 9\n"
     ]
    },
    {
     "name": "stdout",
     "output_type": "stream",
     "text": [
      "*                 \n",
      "* *               \n",
      "*   *             \n",
      "*     *           \n",
      "*       *         \n",
      "*         *       \n",
      "*           *     \n",
      "*             *   \n",
      "* * * * * * * * * \n"
     ]
    }
   ],
   "source": [
    "n=int(input(\"Enter the size\"))\n",
    "for i in range(n):\n",
    "    for j in range(n):\n",
    "        if i==n-1 or j==0 or i==j:\n",
    "            print(\"*\",end=\" \")\n",
    "        else:\n",
    "            print(\" \",end=\" \")\n",
    "    print()"
   ]
  },
  {
   "cell_type": "code",
   "execution_count": 30,
   "id": "12cadb8c-c2b6-42b9-b3b5-7f8d31f69963",
   "metadata": {},
   "outputs": [
    {
     "name": "stdin",
     "output_type": "stream",
     "text": [
      "Enter the size 9\n"
     ]
    },
    {
     "name": "stdout",
     "output_type": "stream",
     "text": [
      "                * \n",
      "              * * \n",
      "            *   * \n",
      "          *     * \n",
      "        *       * \n",
      "      *         * \n",
      "    *           * \n",
      "  *             * \n",
      "* * * * * * * * * \n"
     ]
    }
   ],
   "source": [
    "n=int(input(\"Enter the size\"))\n",
    "for i in range(n):\n",
    "    for j in range(n):\n",
    "        if j==n-1 or i==n-1 or i+j==n-1:\n",
    "            print(\"*\",end=\" \")\n",
    "        else:\n",
    "            print(\" \",end=\" \")\n",
    "    print()"
   ]
  },
  {
   "cell_type": "code",
   "execution_count": 32,
   "id": "a0a85f8c-250e-4332-a2ca-ebb53aba70d9",
   "metadata": {},
   "outputs": [
    {
     "name": "stdin",
     "output_type": "stream",
     "text": [
      "Enter the size 9\n"
     ]
    },
    {
     "name": "stdout",
     "output_type": "stream",
     "text": [
      "* * * * * * * * * \n",
      "  *             * \n",
      "    *           * \n",
      "      *         * \n",
      "        *       * \n",
      "          *     * \n",
      "            *   * \n",
      "              * * \n",
      "                * \n"
     ]
    }
   ],
   "source": [
    "n=int(input(\"Enter the size\"))\n",
    "for i in range(n):\n",
    "    for j in range(n):\n",
    "        if j==n-1 or i==0 or i==j:\n",
    "            print(\"*\",end=\" \")\n",
    "        else:\n",
    "            print(\" \",end=\" \")\n",
    "    print()"
   ]
  },
  {
   "cell_type": "code",
   "execution_count": 37,
   "id": "f21aafda-618e-4dcd-872e-4173944b3198",
   "metadata": {},
   "outputs": [
    {
     "name": "stdin",
     "output_type": "stream",
     "text": [
      "Enter the size 9\n"
     ]
    },
    {
     "name": "stdout",
     "output_type": "stream",
     "text": [
      "* * * * * * * * * \n",
      "*             *   \n",
      "*           *     \n",
      "*         *       \n",
      "*       *         \n",
      "*     *           \n",
      "*   *             \n",
      "* *               \n",
      "*                 \n"
     ]
    }
   ],
   "source": [
    "n=int(input(\"Enter the size\"))\n",
    "for i in range(n):\n",
    "    for j in range(n):\n",
    "        if i==0 or j==0 or i+j==n-1:\n",
    "            print(\"*\",end=\" \")\n",
    "        else:\n",
    "            print(\" \",end=\" \")\n",
    "    print()"
   ]
  },
  {
   "cell_type": "code",
   "execution_count": 41,
   "id": "dec017a1-4bde-4dd7-be18-ca94fa6ee81c",
   "metadata": {},
   "outputs": [
    {
     "name": "stdin",
     "output_type": "stream",
     "text": [
      "Enter the size 9\n"
     ]
    },
    {
     "name": "stdout",
     "output_type": "stream",
     "text": [
      "* * * * * * * * * \n",
      "* *     *     * * \n",
      "*   *   *   *   * \n",
      "*     * * *     * \n",
      "* * * * * * * * * \n",
      "*     * * *     * \n",
      "*   *   *   *   * \n",
      "* *     *     * * \n",
      "* * * * * * * * * \n"
     ]
    }
   ],
   "source": [
    "n=int(input(\"Enter the size\"))\n",
    "for i in range(n):\n",
    "    for j in range(n):\n",
    "        if i==0 or j==n-1 or i+j==n-1 or i==n-1 or j==0 or i==j or i==n//2 or j==n//2:\n",
    "            print(\"*\",end=\" \")\n",
    "        else:\n",
    "            print(\" \",end=\" \")\n",
    "    print()"
   ]
  },
  {
   "cell_type": "code",
   "execution_count": 43,
   "id": "e39ba7ad-4b82-470c-b142-584252ae2cfe",
   "metadata": {},
   "outputs": [
    {
     "name": "stdin",
     "output_type": "stream",
     "text": [
      "Enter the size 19\n"
     ]
    },
    {
     "name": "stdout",
     "output_type": "stream",
     "text": [
      "* * * * * * * * * * * * * * * * * * * \n",
      "* *               *               * * \n",
      "*   *             *             *   * \n",
      "*     *           *           *     * \n",
      "*       *         *         *       * \n",
      "*         *       *       *         * \n",
      "*           *     *     *           * \n",
      "*             *   *   *             * \n",
      "*               * * *               * \n",
      "* * * * * * * * * * * * * * * * * * * \n",
      "*               * * *               * \n",
      "*             *   *   *             * \n",
      "*           *     *     *           * \n",
      "*         *       *       *         * \n",
      "*       *         *         *       * \n",
      "*     *           *           *     * \n",
      "*   *             *             *   * \n",
      "* *               *               * * \n",
      "* * * * * * * * * * * * * * * * * * * \n"
     ]
    }
   ],
   "source": [
    "n=int(input(\"Enter the size\"))\n",
    "for i in range(n):\n",
    "    for j in range(n):\n",
    "        if i==0 or j==n-1 or i+j==n-1 or i==n-1 or j==0 or i==j or i==n//2 or j==n//2:\n",
    "            print(\"*\",end=\" \")\n",
    "        else:\n",
    "            print(\" \",end=\" \")\n",
    "    print()"
   ]
  },
  {
   "cell_type": "code",
   "execution_count": 45,
   "id": "500af7ca-bc87-447d-9e11-7059d22f50e8",
   "metadata": {},
   "outputs": [
    {
     "name": "stdin",
     "output_type": "stream",
     "text": [
      "Enter the size 9\n"
     ]
    },
    {
     "name": "stdout",
     "output_type": "stream",
     "text": [
      "* * * * * * * * * \n",
      "              * * \n",
      "            *   * \n",
      "          *     * \n",
      "        *       * \n",
      "      *         * \n",
      "    *           * \n",
      "  *             * \n",
      "*               * \n"
     ]
    }
   ],
   "source": [
    "n=int(input(\"Enter the size\"))\n",
    "for i in range(n):\n",
    "    for j in range(n):\n",
    "        if i==0 or j==n-1 or i+j==n-1:\n",
    "            print(\"*\",end=\" \")\n",
    "        else:\n",
    "            print(\" \",end=\" \")\n",
    "    print()"
   ]
  },
  {
   "cell_type": "code",
   "execution_count": 47,
   "id": "8074bfcd-20f1-47db-b7c0-f11c1727c387",
   "metadata": {},
   "outputs": [
    {
     "name": "stdin",
     "output_type": "stream",
     "text": [
      "Enter the size 9\n"
     ]
    },
    {
     "name": "stdout",
     "output_type": "stream",
     "text": [
      "* * * * * * * * * \n",
      "* *               \n",
      "*   *             \n",
      "*     *           \n",
      "*       *         \n",
      "*         *       \n",
      "*           *     \n",
      "*             *   \n",
      "*               * \n"
     ]
    }
   ],
   "source": [
    "n=int(input(\"Enter the size\"))\n",
    "for i in range(n):\n",
    "    for j in range(n):\n",
    "        if i==0 or j==0 or i==j:\n",
    "            print(\"*\",end=\" \")\n",
    "        else:\n",
    "            print(\" \",end=\" \")\n",
    "    print()"
   ]
  },
  {
   "cell_type": "code",
   "execution_count": 49,
   "id": "02f7ef39-cdbc-4cd4-86da-0ce743e00189",
   "metadata": {},
   "outputs": [
    {
     "name": "stdin",
     "output_type": "stream",
     "text": [
      "Enter the size 9\n"
     ]
    },
    {
     "name": "stdout",
     "output_type": "stream",
     "text": [
      "*               * \n",
      "*             *   \n",
      "*           *     \n",
      "*         *       \n",
      "*       *         \n",
      "*     *           \n",
      "*   *             \n",
      "* *               \n",
      "* * * * * * * * * \n"
     ]
    }
   ],
   "source": [
    "n=int(input(\"Enter the size\"))\n",
    "for i in range(n):\n",
    "    for j in range(n):\n",
    "        if j==0 or i==n-1 or i+j==n-1:\n",
    "            print(\"*\",end=\" \")\n",
    "        else:\n",
    "            print(\" \",end=\" \")\n",
    "    print()"
   ]
  },
  {
   "cell_type": "code",
   "execution_count": 53,
   "id": "760e2db2-68d4-445a-ace7-10ea597265bf",
   "metadata": {},
   "outputs": [
    {
     "name": "stdin",
     "output_type": "stream",
     "text": [
      "Enter the size 9\n"
     ]
    },
    {
     "name": "stdout",
     "output_type": "stream",
     "text": [
      "*               * \n",
      "  *             * \n",
      "    *           * \n",
      "      *         * \n",
      "        *       * \n",
      "          *     * \n",
      "            *   * \n",
      "              * * \n",
      "* * * * * * * * * \n"
     ]
    }
   ],
   "source": [
    "n=int(input(\"Enter the size\"))\n",
    "for i in range(n):\n",
    "    for j in range(n):\n",
    "        if i==n-1 or j==n-1 or i==j:\n",
    "            print(\"*\",end=\" \")\n",
    "        else:\n",
    "            print(\" \",end=\" \")\n",
    "    print()"
   ]
  },
  {
   "cell_type": "code",
   "execution_count": null,
   "id": "792921f7-de5e-4ba8-8216-6a00186434b6",
   "metadata": {},
   "outputs": [],
   "source": []
  }
 ],
 "metadata": {
  "kernelspec": {
   "display_name": "Python 3 (ipykernel)",
   "language": "python",
   "name": "python3"
  },
  "language_info": {
   "codemirror_mode": {
    "name": "ipython",
    "version": 3
   },
   "file_extension": ".py",
   "mimetype": "text/x-python",
   "name": "python",
   "nbconvert_exporter": "python",
   "pygments_lexer": "ipython3",
   "version": "3.12.7"
  }
 },
 "nbformat": 4,
 "nbformat_minor": 5
}
