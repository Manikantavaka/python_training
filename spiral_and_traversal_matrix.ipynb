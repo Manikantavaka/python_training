{
 "cells": [
  {
   "cell_type": "code",
   "execution_count": null,
   "id": "af0075a2-428d-4566-b0e9-2dabf70b9089",
   "metadata": {},
   "outputs": [],
   "source": [
    "n=int(input(\"Enter the size:\"))\n",
    "print(\"SPIRAL MATRIX\")\n",
    "matrix=[[0]*n for _ in range(n)]\n",
    "top,left=0,0\n",
    "right,bottom=n-1,n-1\n",
    "num=1\n",
    "while top<=bottom and left<=right:\n",
    "    for i in range(left,right+1):\n",
    "        matrix[top][i]=num\n",
    "        num+=1\n",
    "    top+=1\n",
    "    for i in range(top,bottom+1):\n",
    "        matrix[i][right]=num\n",
    "        num+=1\n",
    "    right-=1\n",
    "    for i in range(right,left-1,-1):\n",
    "        matrix[bottom][i]=num\n",
    "        num+=1\n",
    "    bottom-=1\n",
    "    for i in range(bottom,top-1,-1):\n",
    "        matrix[i][left]=num\n",
    "        num+=1\n",
    "    left+=1\n",
    "for row in matrix:\n",
    "    for val in row:\n",
    "        print(f\"{val:3}\",end=' ')\n",
    "    print()"
   ]
  },
  {
   "cell_type": "code",
   "execution_count": 25,
   "id": "e55671f5-015a-4659-a89b-a97848cc89c0",
   "metadata": {},
   "outputs": [
    {
     "name": "stdout",
     "output_type": "stream",
     "text": [
      "1 2 3 4 8 12 16 15 14 13 9 5 6 7 11 10 "
     ]
    }
   ],
   "source": [
    "matrix=[[1,2,3,4],[5,6,7,8],[9,10,11,12],[13,14,15,16]]\n",
    "rows=len(matrix)\n",
    "cols=len(matrix[0])\n",
    "top,left=0,0\n",
    "right,bottom=cols-1,rows-1\n",
    "num=1\n",
    "while top<=bottom and left<=right:\n",
    "    for i in range(left,right+1):\n",
    "        print(matrix[top][i],end=\" \")\n",
    "    top+=1\n",
    "    for i in range(top,bottom+1):\n",
    "        print(matrix[i][right],end=\" \")\n",
    "    right-=1\n",
    "    for i in range(right,left-1,-1):\n",
    "        print(matrix[bottom][i],end=\" \")\n",
    "    bottom-=1\n",
    "    for i in range(bottom,top-1,-1):\n",
    "        print(matrix[i][left],end=\" \")\n",
    "    left+=1\n"
   ]
  },
  {
   "cell_type": "code",
   "execution_count": null,
   "id": "33ccd200-4224-4851-8946-498a8a62ffd1",
   "metadata": {},
   "outputs": [],
   "source": []
  }
 ],
 "metadata": {
  "kernelspec": {
   "display_name": "Python 3 (ipykernel)",
   "language": "python",
   "name": "python3"
  },
  "language_info": {
   "codemirror_mode": {
    "name": "ipython",
    "version": 3
   },
   "file_extension": ".py",
   "mimetype": "text/x-python",
   "name": "python",
   "nbconvert_exporter": "python",
   "pygments_lexer": "ipython3",
   "version": "3.12.7"
  }
 },
 "nbformat": 4,
 "nbformat_minor": 5
}
