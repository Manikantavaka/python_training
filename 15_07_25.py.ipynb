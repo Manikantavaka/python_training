{
 "cells": [
  {
   "cell_type": "code",
   "execution_count": 9,
   "id": "50dee736-6ba0-4d05-8082-e1ef1cfe5dab",
   "metadata": {},
   "outputs": [
    {
     "name": "stdin",
     "output_type": "stream",
     "text": [
      "enter the value: 7\n"
     ]
    },
    {
     "name": "stdout",
     "output_type": "stream",
     "text": [
      "Factorial of 7 is  5040\n"
     ]
    }
   ],
   "source": [
    "f=1\n",
    "def factorial(n):\n",
    "    global f\n",
    "    f=1\n",
    "    for i in range(1,n+1):\n",
    "        f*=i\n",
    "    return f\n",
    "n=int(input(\"enter the value:\"))\n",
    "if n<0:\n",
    "    print(\"Cannot derive factorial for negative numbers!!!\")\n",
    "else:\n",
    "    factorial(n)\n",
    "    print(f\"Factorial of {n} is \",f)"
   ]
  },
  {
   "cell_type": "code",
   "execution_count": 13,
   "id": "a6efc5d4-9c60-4b69-8cfc-ba868319ab80",
   "metadata": {},
   "outputs": [
    {
     "name": "stdin",
     "output_type": "stream",
     "text": [
      "enter the value: -8\n"
     ]
    },
    {
     "name": "stdout",
     "output_type": "stream",
     "text": [
      "Cannot derive factorial for negative numbers!!!\n"
     ]
    }
   ],
   "source": [
    "f=1\n",
    "def factorial(n):\n",
    "    global f\n",
    "    f=1\n",
    "    for i in range(1,n+1):\n",
    "        f*=i\n",
    "    return f\n",
    "n=int(input(\"enter the value:\"))\n",
    "if n<0:\n",
    "    print(\"Cannot derive factorial for negative numbers!!!\")\n",
    "else:\n",
    "    factorial(n)\n",
    "    print(f\"Factorial of {n} is \",f)"
   ]
  },
  {
   "cell_type": "code",
   "execution_count": 68,
   "id": "040b9de3-2242-4897-9576-75ddadb53926",
   "metadata": {},
   "outputs": [
    {
     "name": "stdin",
     "output_type": "stream",
     "text": [
      "Enter the value: -10\n"
     ]
    },
    {
     "name": "stdout",
     "output_type": "stream",
     "text": [
      "Less than zero\n"
     ]
    }
   ],
   "source": [
    "def factorial(n):\n",
    "    if n<=0 or n==1:\n",
    "        if n<=0:\n",
    "            return \"Less than zero\"\n",
    "    else:\n",
    "        return 1\n",
    "    return n*factorial(n-1)\n",
    "num=int(input(\"Enter the value:\"))\n",
    "val=factorial(num)\n",
    "print(val)"
   ]
  },
  {
   "cell_type": "code",
   "execution_count": 49,
   "id": "3a2f3d64-5114-49f8-897b-b6f98c9ffa38",
   "metadata": {},
   "outputs": [
    {
     "name": "stdin",
     "output_type": "stream",
     "text": [
      "Enter the value: 8\n"
     ]
    },
    {
     "name": "stdout",
     "output_type": "stream",
     "text": [
      "40320\n"
     ]
    }
   ],
   "source": [
    "def factorial(n):\n",
    "    if n==0 or n==1:\n",
    "        return 1\n",
    "    return n*factorial(n-1)\n",
    "num=int(input(\"Enter the value:\"))\n",
    "val=factorial(num)\n",
    "print(val)"
   ]
  },
  {
   "cell_type": "code",
   "execution_count": 61,
   "id": "ab63af71-5853-43b8-8284-f0da20892987",
   "metadata": {},
   "outputs": [
    {
     "name": "stdin",
     "output_type": "stream",
     "text": [
      "Enter the value: 100\n"
     ]
    },
    {
     "name": "stdout",
     "output_type": "stream",
     "text": [
      "sum of 100 numbers is 5050\n"
     ]
    }
   ],
   "source": [
    "def nsum(n):\n",
    "    if n==0:\n",
    "        return 0\n",
    "    return n+nsum(n-1)\n",
    "n=int(input(\"Enter the value:\"))\n",
    "val=nsum(n)\n",
    "print(f\"sum of {n} numbers is {val}\")"
   ]
  },
  {
   "cell_type": "code",
   "execution_count": 80,
   "id": "9be72f15-2fb6-40a8-96d4-f1e28609ac08",
   "metadata": {},
   "outputs": [
    {
     "name": "stdin",
     "output_type": "stream",
     "text": [
      "Enter a word: INDIA\n"
     ]
    },
    {
     "name": "stdout",
     "output_type": "stream",
     "text": [
      "AIDNI\n"
     ]
    }
   ],
   "source": [
    "def rstring(s):\n",
    "    if len(s)==0:\n",
    "        return s\n",
    "    return rstring(s[1:])+s[0]\n",
    "t=input(\"Enter a word:\")\n",
    "print(rstring(t))"
   ]
  },
  {
   "cell_type": "code",
   "execution_count": 88,
   "id": "58664e02-ff9c-4632-9134-4a16c4e14b25",
   "metadata": {},
   "outputs": [
    {
     "name": "stdin",
     "output_type": "stream",
     "text": [
      "Enter a string: one piece\n"
     ]
    },
    {
     "name": "stdout",
     "output_type": "stream",
     "text": [
      "eceip eno\n"
     ]
    }
   ],
   "source": [
    "txt=input(\"Enter a string:\")\n",
    "print(txt[::-1])"
   ]
  },
  {
   "cell_type": "code",
   "execution_count": 92,
   "id": "fe192f08-6b21-479d-ba45-e837b66b368a",
   "metadata": {},
   "outputs": [
    {
     "name": "stdout",
     "output_type": "stream",
     "text": [
      "5\n",
      "55\n"
     ]
    }
   ],
   "source": [
    "def sn(*args):\n",
    "    print(args[4])\n",
    "    return sum(args)\n",
    "print(sn(1,2,3,4,5,6,7,8,9,10))"
   ]
  },
  {
   "cell_type": "code",
   "execution_count": 109,
   "id": "6dd811c1-829d-48f6-85b3-0bda98a1f715",
   "metadata": {},
   "outputs": [
    {
     "name": "stdout",
     "output_type": "stream",
     "text": [
      "54\n",
      "212\n"
     ]
    }
   ],
   "source": [
    "def sn(*args):\n",
    "    print(args[4])\n",
    "    return max(args)\n",
    "print(sn(10,4,212,24,54,124,12))"
   ]
  },
  {
   "cell_type": "code",
   "execution_count": 111,
   "id": "407593fe-300d-423d-9189-9c603fba7923",
   "metadata": {},
   "outputs": [
    {
     "name": "stdout",
     "output_type": "stream",
     "text": [
      "54\n",
      "4\n"
     ]
    }
   ],
   "source": [
    "def sn(*args):\n",
    "    print(args[4])\n",
    "    return min(args)\n",
    "print(sn(10,4,212,24,54,124,12))"
   ]
  },
  {
   "cell_type": "code",
   "execution_count": 107,
   "id": "4664ffad-899f-4470-b363-5c4f2c53dfeb",
   "metadata": {},
   "outputs": [
    {
     "name": "stdout",
     "output_type": "stream",
     "text": [
      "54\n",
      "[4, 10, 12, 24, 54, 124, 212]\n"
     ]
    }
   ],
   "source": [
    "def sn(*args):\n",
    "    print(args[4])\n",
    "    return sorted(args)\n",
    "print(sn(10,4,212,24,54,124,12))"
   ]
  },
  {
   "cell_type": "code",
   "execution_count": 115,
   "id": "959c24f2-1258-4bbf-adb7-8d6e3a53717c",
   "metadata": {},
   "outputs": [
    {
     "name": "stdout",
     "output_type": "stream",
     "text": [
      "name:Mani\n",
      "age:21\n",
      "cgpa:7.8\n"
     ]
    }
   ],
   "source": [
    "'''keword args'''\n",
    "def inf(**kwargs):\n",
    "    for key,value in kwargs.items():\n",
    "        print(f\"{key}:{value}\")\n",
    "inf(name='Mani',age=21,cgpa=7.8)"
   ]
  },
  {
   "cell_type": "code",
   "execution_count": 121,
   "id": "75393a8f-eae3-4aae-9566-7f6c0fbfaead",
   "metadata": {},
   "outputs": [
    {
     "name": "stdout",
     "output_type": "stream",
     "text": [
      "name:Mani\n",
      "age:21\n",
      "cgpa:7.8\n",
      "Name:Mani\n"
     ]
    }
   ],
   "source": [
    "'''keword args'''\n",
    "def inf(**kwargs):\n",
    "    for key,value in kwargs.items():\n",
    "        print(f\"{key}:{value}\")\n",
    "    name=kwargs[\"name\"]\n",
    "    print(f\"Name:{name}\")\n",
    "inf(name='Mani',age=21,cgpa=7.8)"
   ]
  },
  {
   "cell_type": "code",
   "execution_count": 123,
   "id": "e20ba366-c93c-4041-94a6-112818d37abb",
   "metadata": {},
   "outputs": [
    {
     "name": "stdout",
     "output_type": "stream",
     "text": [
      "Keys: dict_keys(['name', 'age', 'cgpa'])\n"
     ]
    }
   ],
   "source": [
    "'''keword args'''\n",
    "def inf(**kwargs):\n",
    "   print(\"Keys:\",kwargs.key)\n",
    "inf(name='Mani',age=21,cgpa=7.8)"
   ]
  },
  {
   "cell_type": "code",
   "execution_count": 137,
   "id": "4c6f459d-5e9f-45ee-a489-0ffa9740c6ac",
   "metadata": {},
   "outputs": [
    {
     "name": "stdout",
     "output_type": "stream",
     "text": [
      "Keys: dict_keys(['name', 'age', 'cgpa'])\n",
      "--------------------\n",
      "name\n",
      "age\n",
      "cgpa\n"
     ]
    }
   ],
   "source": [
    "'''keword args'''\n",
    "def inf(**kwargs):\n",
    "   print(\"Keys:\",kwargs.keys())\n",
    "   print(\"--------------------\")\n",
    "   for key,value in kwargs.items():\n",
    "        print(f\"{key}\")\n",
    "inf(name='Mani',age=21,cgpa=7.8)"
   ]
  },
  {
   "cell_type": "code",
   "execution_count": 133,
   "id": "e3692ead-2123-4cdd-a50d-42bfd27419a9",
   "metadata": {},
   "outputs": [
    {
     "name": "stdout",
     "output_type": "stream",
     "text": [
      "Values: dict_values(['Mani', 21, 7.8])\n",
      "--------------------\n",
      "Mani\n",
      "21\n",
      "7.8\n"
     ]
    }
   ],
   "source": [
    "'''keword args'''\n",
    "def inf(**kwargs):\n",
    "   print(\"Values:\",kwargs.values())\n",
    "   print(\"--------------------\")\n",
    "   for key,value in kwargs.items():\n",
    "        print(f\"{value}\")\n",
    "inf(name='Mani',age=21,cgpa=7.8)"
   ]
  },
  {
   "cell_type": "code",
   "execution_count": 141,
   "id": "ab1feb69-b4d3-4875-bb03-933f4b8746bb",
   "metadata": {},
   "outputs": [
    {
     "name": "stdout",
     "output_type": "stream",
     "text": [
      "Keys: dict_keys(['name', 'age', 'cgpa'])\n",
      "--------------------\n",
      "('name', 'Mani')\n",
      "('age', 21)\n",
      "('cgpa', 7.8)\n"
     ]
    }
   ],
   "source": [
    "'''keword args'''\n",
    "def inf(**kwargs):\n",
    "   print(\"Keys:\",kwargs.keys())\n",
    "   print(\"--------------------\")\n",
    "   for key in kwargs.items():\n",
    "        print(f\"{key}\")\n",
    "inf(name='Mani',age=21,cgpa=7.8)"
   ]
  },
  {
   "cell_type": "code",
   "execution_count": null,
   "id": "5dbe5392-f969-4409-8b80-eebb27007a42",
   "metadata": {},
   "outputs": [],
   "source": [
    "'''recursions:\n",
    "    1.direct recursion-function call itself\n",
    "    2.indirect recursion-function calling another function\n",
    "    3.head-first rec call\n",
    "    4.tail-last rec call\n",
    "    5.nested-rec with in rec\n",
    "    6.tree-'''"
   ]
  },
  {
   "cell_type": "code",
   "execution_count": 149,
   "id": "e9b8c954-8bfb-45ea-b4bf-69f857feedd5",
   "metadata": {},
   "outputs": [
    {
     "name": "stdin",
     "output_type": "stream",
     "text": [
      "enter the value 4\n"
     ]
    },
    {
     "name": "stdout",
     "output_type": "stream",
     "text": [
      "1\n"
     ]
    }
   ],
   "source": [
    "def rec(r):\n",
    "    if r==n:\n",
    "        return \n",
    "    return r+rec(r+1)\n",
    "r=int(input(\"enter the value\"))\n",
    "r=n\n",
    "print(rec(r))"
   ]
  },
  {
   "cell_type": "code",
   "execution_count": null,
   "id": "783c3355-76e0-411d-90b5-af14f61bab01",
   "metadata": {},
   "outputs": [],
   "source": [
    "0,1,1,2,3,5,8,13,21"
   ]
  }
 ],
 "metadata": {
  "kernelspec": {
   "display_name": "Python 3 (ipykernel)",
   "language": "python",
   "name": "python3"
  },
  "language_info": {
   "codemirror_mode": {
    "name": "ipython",
    "version": 3
   },
   "file_extension": ".py",
   "mimetype": "text/x-python",
   "name": "python",
   "nbconvert_exporter": "python",
   "pygments_lexer": "ipython3",
   "version": "3.12.7"
  }
 },
 "nbformat": 4,
 "nbformat_minor": 5
}
